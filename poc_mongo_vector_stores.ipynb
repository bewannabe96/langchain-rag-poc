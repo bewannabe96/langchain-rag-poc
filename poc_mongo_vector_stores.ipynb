{
 "cells": [
  {
   "metadata": {
    "ExecuteTime": {
     "end_time": "2024-12-05T08:34:52.764160Z",
     "start_time": "2024-12-05T08:34:52.062558Z"
    }
   },
   "cell_type": "code",
   "source": [
    "import os\n",
    "\n",
    "from dotenv import load_dotenv\n",
    "from langchain_core.prompts import ChatPromptTemplate\n",
    "from langchain_core.runnables import RunnableLambda\n",
    "from langchain_mongodb import MongoDBAtlasVectorSearch\n",
    "from langchain_openai import OpenAIEmbeddings, ChatOpenAI\n",
    "from pymongo import MongoClient\n",
    "\n",
    "load_dotenv()"
   ],
   "id": "7650d17a95cd6d94",
   "outputs": [
    {
     "name": "stderr",
     "output_type": "stream",
     "text": [
      "/Users/sookhyun/Documents/personal/langchain-rag-poc/.venv/lib/python3.9/site-packages/urllib3/__init__.py:35: NotOpenSSLWarning: urllib3 v2 only supports OpenSSL 1.1.1+, currently the 'ssl' module is compiled with 'LibreSSL 2.8.3'. See: https://github.com/urllib3/urllib3/issues/3020\n",
      "  warnings.warn(\n"
     ]
    },
    {
     "data": {
      "text/plain": [
       "True"
      ]
     },
     "execution_count": 2,
     "metadata": {},
     "output_type": "execute_result"
    }
   ],
   "execution_count": 2
  },
  {
   "metadata": {
    "ExecuteTime": {
     "end_time": "2024-12-05T08:34:53.877478Z",
     "start_time": "2024-12-05T08:34:53.789231Z"
    }
   },
   "cell_type": "code",
   "source": [
    "client = MongoClient(os.environ[\"DEV_MONGO_CONNECTION_STRING\"])\n",
    "\n",
    "DB_NAME = \"lab_dev\"\n",
    "COLLECTION_NAME = \"langchain_embedding\"\n",
    "ATLAS_VECTOR_SEARCH_INDEX_NAME = \"test_vector_store_index\"\n",
    "\n",
    "MONGODB_COLLECTION = client[DB_NAME][COLLECTION_NAME]"
   ],
   "id": "7c9ee4d7db479d6",
   "outputs": [],
   "execution_count": 3
  },
  {
   "metadata": {
    "ExecuteTime": {
     "end_time": "2024-12-05T08:34:54.457909Z",
     "start_time": "2024-12-05T08:34:54.422761Z"
    }
   },
   "cell_type": "code",
   "source": [
    "embeddings = OpenAIEmbeddings(model=\"text-embedding-3-small\", dimensions=1536)\n",
    "\n",
    "vector_store = MongoDBAtlasVectorSearch(\n",
    "    collection=MONGODB_COLLECTION,\n",
    "    index_name=ATLAS_VECTOR_SEARCH_INDEX_NAME,\n",
    "    relevance_score_fn=\"cosine\",\n",
    "    embedding=embeddings,\n",
    ")\n",
    "\n",
    "# Also can be done manually through console\n",
    "# vector_store.create_vector_search_index(dimensions=1536)"
   ],
   "id": "fbfa98b562cc4a3c",
   "outputs": [],
   "execution_count": 4
  },
  {
   "metadata": {
    "ExecuteTime": {
     "end_time": "2024-12-05T08:34:55.702986Z",
     "start_time": "2024-12-05T08:34:55.679881Z"
    }
   },
   "cell_type": "code",
   "source": [
    "retriever = vector_store.as_retriever(\n",
    "    search_type=\"similarity\",\n",
    "    search_kwargs={\"k\": 10},\n",
    ")\n",
    "\n",
    "llm = ChatOpenAI(model=\"gpt-4o\")\n",
    "\n",
    "message = \"\"\"\n",
    "You are an AI concierge. Answer the question using the provided context only.\n",
    "You must answer in Korean with \"informal language\".\n",
    "\n",
    "User Name: {username}\n",
    "Question: {question}\n",
    "\n",
    "Context:\n",
    "{context}\n",
    "\"\"\"\n",
    "\n",
    "prompt = ChatPromptTemplate.from_messages([\n",
    "    (\"human\", message)\n",
    "])"
   ],
   "id": "62fb743623110b77",
   "outputs": [],
   "execution_count": 5
  },
  {
   "metadata": {
    "ExecuteTime": {
     "end_time": "2024-12-05T08:39:56.990320Z",
     "start_time": "2024-12-05T08:39:56.985708Z"
    }
   },
   "cell_type": "code",
   "source": [
    "def format_input(inputs):\n",
    "    return {\n",
    "        \"question\": inputs[\"question\"],\n",
    "        \"username\": inputs[\"username\"],\n",
    "        \"context\": retriever.invoke(inputs[\"question\"])\n",
    "    }\n",
    "\n",
    "rag_chain = RunnableLambda(format_input) | prompt | llm"
   ],
   "id": "2137f8fd994608a1",
   "outputs": [],
   "execution_count": 8
  },
  {
   "metadata": {
    "ExecuteTime": {
     "end_time": "2024-12-05T06:10:31.857081Z",
     "start_time": "2024-12-05T06:10:26.613870Z"
    }
   },
   "cell_type": "code",
   "source": [
    "response = rag_chain.invoke({\"username\": \"__b1ob\", \"question\": \"단풍을 보러 가고싶어.\"})\n",
    "print(response.content)"
   ],
   "id": "3d313f83d452e7df",
   "outputs": [
    {
     "name": "stdout",
     "output_type": "stream",
     "text": [
      "단풍 보러 갈 거면 담양의 관방제림 추천해! 가을 풍경이 정말 멋지다고 해. 나무가 울창하고 주황색과 붉은색 단풍이 가득해서 걷기에도 좋고 자연을 느끼기에 완벽한 곳이야. 조용한 강가 길도 있어서 산책하기에 더할 나위 없이 좋을 거야. 한 번 가봐!\n"
     ]
    }
   ],
   "execution_count": 18
  },
  {
   "metadata": {
    "ExecuteTime": {
     "end_time": "2024-12-05T06:10:34.005782Z",
     "start_time": "2024-12-05T06:10:31.858697Z"
    }
   },
   "cell_type": "code",
   "source": [
    "response = rag_chain.invoke({\"username\": \"__b1ob\", \"question\": \"눈오는데 갈만한 공간 없을까?\"})\n",
    "print(response.content)"
   ],
   "id": "1fffea546eb525a",
   "outputs": [
    {
     "name": "stdout",
     "output_type": "stream",
     "text": [
      "눈 올 때 갈만한 곳으로 마이오운가든 추천해! 영등포구에 있는 아늑한 카페인데, 따뜻한 분위기에 커피와 디저트가 맛있어. 눈 오는 날 창밖을 보며 커피 한 잔 즐기기 좋은 곳이야.\n"
     ]
    }
   ],
   "execution_count": 19
  },
  {
   "metadata": {
    "ExecuteTime": {
     "end_time": "2024-12-05T06:10:37.922772Z",
     "start_time": "2024-12-05T06:10:35.273084Z"
    }
   },
   "cell_type": "code",
   "source": [
    "response = rag_chain.invoke({\"username\": \"__b1ob\", \"question\": \"여자친구와 한국적인 공간을 방문하고싶어.\"})\n",
    "print(response.content)"
   ],
   "id": "81628db1ac8d99b9",
   "outputs": [
    {
     "name": "stdout",
     "output_type": "stream",
     "text": [
      "여자친구랑 한국적인 공간을 찾고 있다면, 서울 동작구에 있는 한옥 카페 R1을 추천해. 이곳은 전통 한국 건축물인 한옥에 현대적인 도시 감각을 더한 멋진 카페야. 335년 된 은행나무가 있어 분위기도 좋고, 자연광이 잘 드는 창문 덕분에 아늑한 느낌이 들어. 커피 마시면서 사진 찍기도 좋고, 조용히 책 읽으면서 힐링하기에도 완벽한 장소야. 꼭 가봐!\n"
     ]
    }
   ],
   "execution_count": 20
  },
  {
   "metadata": {
    "ExecuteTime": {
     "end_time": "2024-12-05T06:10:53.595546Z",
     "start_time": "2024-12-05T06:10:51.377597Z"
    }
   },
   "cell_type": "code",
   "source": [
    "response = rag_chain.invoke({\"username\": \"__b1ob\", \"question\": \"한옥카페 R1은 주차가 가능해?\"})\n",
    "print(response.content)"
   ],
   "id": "2c42c1b80d5f1fae",
   "outputs": [
    {
     "name": "stdout",
     "output_type": "stream",
     "text": [
      "한옥카페 R1에 대한 주차 정보는 제공되지 않았어. 다른 정보를 참고하거나 직접 문의해보는 게 좋을 것 같아!\n"
     ]
    }
   ],
   "execution_count": 21
  },
  {
   "metadata": {
    "ExecuteTime": {
     "end_time": "2024-12-05T06:10:58.167351Z",
     "start_time": "2024-12-05T06:10:55.992473Z"
    }
   },
   "cell_type": "code",
   "source": [
    "response = rag_chain.invoke({\"username\": \"__b1ob\", \"question\": \"서울에 여자친구랑 가기 좋은 주차 가능한 공간이 있을까?\"})\n",
    "print(response.content)"
   ],
   "id": "2c721c4ea8a113b6",
   "outputs": [
    {
     "name": "stdout",
     "output_type": "stream",
     "text": [
      "서울에서 여자친구랑 가기 좋은 주차 가능한 공간으로는 \"The Plaza Seoul, Autograph Collection\" 호텔이 있어. 이 호텔은 서울의 중심부인 중구에 위치하고 있고, 주변에 광화문, 명동, 덕수궁 같은 주요 명소들이 있어서 문화적인 탐방을 하기에 좋을 것 같아. 호텔은 현대적이고 세련된 디자인을 자랑하며, 도심의 활기찬 풍경을 즐길 수 있는 숙박 경험을 제공해.\n"
     ]
    }
   ],
   "execution_count": 22
  },
  {
   "metadata": {},
   "cell_type": "code",
   "outputs": [],
   "execution_count": null,
   "source": "",
   "id": "5110a491c572ac8e"
  }
 ],
 "metadata": {
  "kernelspec": {
   "display_name": "Python 3",
   "language": "python",
   "name": "python3"
  },
  "language_info": {
   "codemirror_mode": {
    "name": "ipython",
    "version": 2
   },
   "file_extension": ".py",
   "mimetype": "text/x-python",
   "name": "python",
   "nbconvert_exporter": "python",
   "pygments_lexer": "ipython2",
   "version": "2.7.6"
  }
 },
 "nbformat": 4,
 "nbformat_minor": 5
}
