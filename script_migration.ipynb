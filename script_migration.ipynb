{
 "cells": [
  {
   "cell_type": "code",
   "execution_count": 4,
   "id": "1260e85c2cfa2685",
   "metadata": {
    "ExecuteTime": {
     "end_time": "2024-12-09T07:29:43.181305Z",
     "start_time": "2024-12-09T07:29:43.114192Z"
    },
    "collapsed": true
   },
   "outputs": [
    {
     "data": {
      "text/plain": [
       "True"
      ]
     },
     "execution_count": 4,
     "metadata": {},
     "output_type": "execute_result"
    }
   ],
   "source": [
    "import json\n",
    "import os\n",
    "\n",
    "from dotenv import load_dotenv\n",
    "from pymongo import MongoClient\n",
    "from tqdm import tqdm\n",
    "\n",
    "load_dotenv()"
   ]
  },
  {
   "cell_type": "code",
   "execution_count": 5,
   "id": "initial_id",
   "metadata": {
    "ExecuteTime": {
     "end_time": "2024-12-09T07:29:44.400150Z",
     "start_time": "2024-12-09T07:29:44.206727Z"
    }
   },
   "outputs": [],
   "source": [
    "prod_mongo_client = MongoClient(os.environ[\"PROD_MONGO_CONNECTION_STRING\"])\n",
    "dev_mongo_client = MongoClient(os.environ[\"DEV_MONGO_CONNECTION_STRING\"])"
   ]
  },
  {
   "cell_type": "code",
   "id": "01f1facb",
   "metadata": {
    "ExecuteTime": {
     "end_time": "2024-12-09T07:59:49.478187Z",
     "start_time": "2024-12-09T07:59:49.468352Z"
    }
   },
   "source": [
    "def get_content_embedding_doc(content_id: str):\n",
    "    daylog_doc = prod_mongo_client[\"prod\"][\"post\"].find_one({\"_id\": content_id})\n",
    "        \n",
    "    space_doc = prod_mongo_client[\"prod\"][\"space\"].find_one({\"_id\": daylog_doc[\"spaceId\"]})\n",
    "    space_type_docs = prod_mongo_client[\"prod\"][\"space_type\"].find({\"_id\": {\"$in\": space_doc[\"spaceTypeIds\"]}})\n",
    "    area_docs = prod_mongo_client[\"daytrip_area\"][\"node\"].find({\"_id\": {\"$in\": list(map(lambda x: x[\"ref\"], space_doc[\"areas\"]))}})\n",
    "    resource_meta_docs = prod_mongo_client[\"prod\"][\"resource_meta\"].find({\"_id\": {\"$in\": list(map(lambda x: x[\"ref\"], daylog_doc[\"images\"]))}})\n",
    "\n",
    "    keyword = None\n",
    "    for resource_meta_doc in resource_meta_docs:\n",
    "        if \"prompting\" in resource_meta_doc:\n",
    "            keyword = {\n",
    "                \"summary\": resource_meta_doc[\"prompting\"][\"keyword\"][\"summary\"],\n",
    "                \"contents\": resource_meta_doc[\"prompting\"][\"keyword\"][\"contents\"],\n",
    "                \"moods\": resource_meta_doc[\"prompting\"][\"keyword\"][\"moods\"],\n",
    "            }\n",
    "            break\n",
    "    \n",
    "    payload = {\n",
    "        \"name\": space_doc[\"names\"][\"en\"],\n",
    "        \"spaceTypeNames\": list(map(lambda x: x[\"names\"][\"en\"], space_type_docs)),\n",
    "        \"location\": space_doc[\"locationDescriptions\"][\"en\"],\n",
    "        \"areaNames\": list(map(lambda x: x[\"name\"][\"en\"], area_docs)),\n",
    "        \"summary\": daylog_doc[\"prompting\"][\"summary\"][\"en\"],\n",
    "        \"helpfulTip\": {\n",
    "            \"operatingHours\": daylog_doc[\"prompting\"][\"helpfulTip\"][\"operatingHours\"],\n",
    "            \"operatingDates\": daylog_doc[\"prompting\"][\"helpfulTip\"][\"operatingDates\"],\n",
    "            \"menu\": daylog_doc[\"prompting\"][\"helpfulTip\"][\"menu\"],\n",
    "            \"price\": daylog_doc[\"prompting\"][\"helpfulTip\"][\"price\"],\n",
    "            \"tipsOnVisiting\": daylog_doc[\"prompting\"][\"helpfulTip\"][\"tipsOnVisiting\"],\n",
    "            \"parkingAvailability\": daylog_doc[\"prompting\"][\"helpfulTip\"][\"parkingAvailability\"],\n",
    "        },\n",
    "        \"keyword\": keyword,\n",
    "    }\n",
    "\n",
    "    return {\n",
    "        \"content_id\": content_id,\n",
    "        \"embedding\": daylog_doc[\"embedding\"][\"search\"],\n",
    "        \"text\": json.dumps(payload),\n",
    "    }"
   ],
   "outputs": [],
   "execution_count": 11
  },
  {
   "cell_type": "code",
   "id": "de7b171d",
   "metadata": {
    "ExecuteTime": {
     "end_time": "2024-12-09T08:00:01.026422Z",
     "start_time": "2024-12-09T07:59:50.942199Z"
    }
   },
   "source": [
    "cursor = prod_mongo_client[\"prod\"][\"post\"]\\\n",
    "    .find({\"embedding\": {\"$exists\": True}, \"prompting\": {\"$exists\": True}, \"public\": True, \"ownerPublic\": True, \"countryCode\": \"KR\"}, {})\\\n",
    "    .sort(\"createdAt\", -1)\\\n",
    "    .limit(100)\n",
    "\n",
    "for doc in tqdm(cursor, desc=\"Processing documents\"):\n",
    "    content_id = doc[\"_id\"]\n",
    "    try:\n",
    "        embedding_doc = get_content_embedding_doc(content_id)\n",
    "    except Exception as e:\n",
    "        print(f\"Error processing {content_id}: {e}\")\n",
    "        continue\n",
    "    \n",
    "    dev_mongo_client[\"lab_dev\"][\"langchain_existing_embedding\"].replace_one(\n",
    "        {\"content_id\": embedding_doc[\"content_id\"]},\n",
    "        embedding_doc,\n",
    "        upsert=True,\n",
    "    )"
   ],
   "outputs": [
    {
     "name": "stderr",
     "output_type": "stream",
     "text": [
      "Processing documents: 100it [00:10,  9.92it/s]\n"
     ]
    }
   ],
   "execution_count": 12
  },
  {
   "cell_type": "code",
   "execution_count": null,
   "id": "147d914f33c602c9",
   "metadata": {},
   "outputs": [],
   "source": []
  }
 ],
 "metadata": {
  "kernelspec": {
   "display_name": "Python 3",
   "language": "python",
   "name": "python3"
  },
  "language_info": {
   "codemirror_mode": {
    "name": "ipython",
    "version": 3
   },
   "file_extension": ".py",
   "mimetype": "text/x-python",
   "name": "python",
   "nbconvert_exporter": "python",
   "pygments_lexer": "ipython3",
   "version": "3.9.6"
  }
 },
 "nbformat": 4,
 "nbformat_minor": 5
}
