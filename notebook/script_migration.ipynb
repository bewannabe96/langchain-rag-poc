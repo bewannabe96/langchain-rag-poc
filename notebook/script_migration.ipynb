{
 "cells": [
  {
   "cell_type": "code",
   "id": "1260e85c2cfa2685",
   "metadata": {
    "collapsed": true,
    "ExecuteTime": {
     "end_time": "2024-12-12T01:42:24.945702Z",
     "start_time": "2024-12-12T01:42:24.875159Z"
    }
   },
   "source": [
    "import json\n",
    "import os\n",
    "\n",
    "from dotenv import load_dotenv\n",
    "from pymongo import MongoClient\n",
    "from tqdm import tqdm\n",
    "\n",
    "load_dotenv()"
   ],
   "outputs": [
    {
     "data": {
      "text/plain": [
       "True"
      ]
     },
     "execution_count": 2,
     "metadata": {},
     "output_type": "execute_result"
    }
   ],
   "execution_count": 2
  },
  {
   "cell_type": "code",
   "id": "initial_id",
   "metadata": {
    "ExecuteTime": {
     "end_time": "2024-12-12T01:42:25.576909Z",
     "start_time": "2024-12-12T01:42:25.464850Z"
    }
   },
   "source": [
    "prod_mongo_client = MongoClient(os.environ[\"MONGO_CONNECTION_STRING\"])\n",
    "dev_mongo_client = MongoClient(os.environ[\"MONGO_CONNECTION_STRING\"])"
   ],
   "outputs": [],
   "execution_count": 3
  },
  {
   "cell_type": "code",
   "id": "01f1facb",
   "metadata": {
    "ExecuteTime": {
     "end_time": "2024-12-12T01:42:26.010881Z",
     "start_time": "2024-12-12T01:42:26.005942Z"
    }
   },
   "source": [
    "def get_content_embedding_doc(content_id: str):\n",
    "    daylog_doc = prod_mongo_client[\"prod\"][\"post\"].find_one({\"_id\": content_id})\n",
    "        \n",
    "    space_doc = prod_mongo_client[\"prod\"][\"space\"].find_one({\"_id\": daylog_doc[\"spaceId\"]})\n",
    "    space_type_docs = prod_mongo_client[\"prod\"][\"space_type\"].find({\"_id\": {\"$in\": space_doc[\"spaceTypeIds\"]}})\n",
    "    area_docs = prod_mongo_client[\"daytrip_area\"][\"node\"].find({\"_id\": {\"$in\": list(map(lambda x: x[\"ref\"], space_doc[\"areas\"]))}})\n",
    "    resource_meta_docs = prod_mongo_client[\"prod\"][\"resource_meta\"].find({\"_id\": {\"$in\": list(map(lambda x: x[\"ref\"], daylog_doc[\"images\"]))}})\n",
    "\n",
    "    keyword = None\n",
    "    for resource_meta_doc in resource_meta_docs:\n",
    "        if \"prompting\" in resource_meta_doc:\n",
    "            keyword = {\n",
    "                \"summary\": resource_meta_doc[\"prompting\"][\"keyword\"][\"summary\"],\n",
    "                \"contents\": resource_meta_doc[\"prompting\"][\"keyword\"][\"contents\"],\n",
    "                \"moods\": resource_meta_doc[\"prompting\"][\"keyword\"][\"moods\"],\n",
    "            }\n",
    "            break\n",
    "    \n",
    "    payload = {\n",
    "        \"name\": space_doc[\"names\"][\"en\"],\n",
    "        \"spaceTypeNames\": list(map(lambda x: x[\"names\"][\"en\"], space_type_docs)),\n",
    "        \"location\": space_doc[\"locationDescriptions\"][\"en\"],\n",
    "        \"areaNames\": list(map(lambda x: x[\"name\"][\"en\"], area_docs)),\n",
    "        \"summary\": daylog_doc[\"prompting\"][\"summary\"][\"en\"],\n",
    "        \"helpfulTip\": {\n",
    "            \"operatingHours\": daylog_doc[\"prompting\"][\"helpfulTip\"][\"operatingHours\"],\n",
    "            \"operatingDates\": daylog_doc[\"prompting\"][\"helpfulTip\"][\"operatingDates\"],\n",
    "            \"menu\": daylog_doc[\"prompting\"][\"helpfulTip\"][\"menu\"],\n",
    "            \"price\": daylog_doc[\"prompting\"][\"helpfulTip\"][\"price\"],\n",
    "            \"tipsOnVisiting\": daylog_doc[\"prompting\"][\"helpfulTip\"][\"tipsOnVisiting\"],\n",
    "            \"parkingAvailability\": daylog_doc[\"prompting\"][\"helpfulTip\"][\"parkingAvailability\"],\n",
    "        } if \"helpfulTip\" in daylog_doc[\"prompting\"] else None,\n",
    "        \"keyword\": keyword,\n",
    "    }\n",
    "\n",
    "    return {\n",
    "        \"content_id\": content_id,\n",
    "        \"embedding\": daylog_doc[\"embedding\"][\"search\"],\n",
    "        \"text\": json.dumps(payload),\n",
    "    }"
   ],
   "outputs": [],
   "execution_count": 4
  },
  {
   "cell_type": "code",
   "id": "de7b171d",
   "metadata": {
    "ExecuteTime": {
     "end_time": "2024-12-12T08:17:32.736156Z",
     "start_time": "2024-12-12T05:52:01.091325Z"
    }
   },
   "source": [
    "cursor = prod_mongo_client[\"prod\"][\"post\"]\\\n",
    "    .find({\n",
    "        \"embedding.search\": {\"$exists\": True},\n",
    "        \"prompting\": {\"$exists\": True},\n",
    "        \"public\": True,\n",
    "        \"ownerPublic\": True,\n",
    "        \"countryCode\": {\"$ne\": \"KR\"},\n",
    "    }, {})\\\n",
    "    .sort(\"createdAt\", -1)\\\n",
    "    # .limit(100)\n",
    "\n",
    "for doc in tqdm(cursor, desc=\"Processing documents\"):\n",
    "    content_id = doc[\"_id\"]\n",
    "    \n",
    "    doc = dev_mongo_client[\"lab_dev\"][\"langchain_existing_embedding\"].find_one({\"content_id\": content_id})\n",
    "    if doc is not None:\n",
    "        continue\n",
    "    \n",
    "    try:\n",
    "        embedding_doc = get_content_embedding_doc(content_id)\n",
    "    except Exception as e:\n",
    "        print(f\"Error processing {content_id}: {e}\")\n",
    "        continue\n",
    "    \n",
    "    dev_mongo_client[\"lab_dev\"][\"langchain_existing_embedding\"].replace_one(\n",
    "        {\"content_id\": embedding_doc[\"content_id\"]},\n",
    "        embedding_doc,\n",
    "        upsert=True,\n",
    "    )"
   ],
   "outputs": [
    {
     "name": "stderr",
     "output_type": "stream",
     "text": [
      "Processing documents: 4665it [26:50,  3.58it/s]"
     ]
    },
    {
     "name": "stdout",
     "output_type": "stream",
     "text": [
      "Error processing 64fc8fd43eab3f4daedef436: 'operatingHours'\n"
     ]
    },
    {
     "name": "stderr",
     "output_type": "stream",
     "text": [
      "Processing documents: 5065it [28:55,  4.79it/s]"
     ]
    },
    {
     "name": "stdout",
     "output_type": "stream",
     "text": [
      "Error processing 64ed870b9f8fcb6648a8262a: 'summary'\n"
     ]
    },
    {
     "name": "stderr",
     "output_type": "stream",
     "text": [
      "Processing documents: 5567it [33:04,  2.15it/s]"
     ]
    },
    {
     "name": "stdout",
     "output_type": "stream",
     "text": [
      "Error processing 64e1df8e2a1ec3ee39c862b9: 'spaceTypeIds'\n"
     ]
    },
    {
     "name": "stderr",
     "output_type": "stream",
     "text": [
      "Processing documents: 7245it [44:23,  1.88it/s]"
     ]
    },
    {
     "name": "stdout",
     "output_type": "stream",
     "text": [
      "Error processing 64acb03f25e4b1b26cf32e50: 'operatingHours'\n"
     ]
    },
    {
     "name": "stderr",
     "output_type": "stream",
     "text": [
      "Processing documents: 7300it [44:51,  3.79it/s]"
     ]
    },
    {
     "name": "stdout",
     "output_type": "stream",
     "text": [
      "Error processing 64abb18f25e4b1b26cebed77: 'summary'\n"
     ]
    },
    {
     "name": "stderr",
     "output_type": "stream",
     "text": [
      "Processing documents: 8933it [59:45,  3.34it/s]"
     ]
    },
    {
     "name": "stdout",
     "output_type": "stream",
     "text": [
      "Error processing 644c6fa8ada45ed7638913f2: 'keyword'\n"
     ]
    },
    {
     "name": "stderr",
     "output_type": "stream",
     "text": [
      "Processing documents: 9777it [1:05:01,  3.95it/s]"
     ]
    },
    {
     "name": "stdout",
     "output_type": "stream",
     "text": [
      "Error processing 640167b6c8121901f97629ad: 'keyword'\n"
     ]
    },
    {
     "name": "stderr",
     "output_type": "stream",
     "text": [
      "Processing documents: 10524it [1:12:50,  1.10it/s]"
     ]
    },
    {
     "name": "stdout",
     "output_type": "stream",
     "text": [
      "Error processing 63ec981801e1afe5eb78816e: 'operatingDates'\n"
     ]
    },
    {
     "name": "stderr",
     "output_type": "stream",
     "text": [
      "Processing documents: 11325it [1:26:50,  1.13it/s]"
     ]
    },
    {
     "name": "stdout",
     "output_type": "stream",
     "text": [
      "Error processing 63d2f743d03d41c2da2849ec: 'operatingHours'\n"
     ]
    },
    {
     "name": "stderr",
     "output_type": "stream",
     "text": [
      "Processing documents: 13952it [2:10:47, 11.42it/s]"
     ]
    },
    {
     "name": "stdout",
     "output_type": "stream",
     "text": [
      "Error processing 62c39649ede58929fb17d42c: 'operatingDates'\n"
     ]
    },
    {
     "name": "stderr",
     "output_type": "stream",
     "text": [
      "Processing documents: 14988it [2:19:09,  2.05it/s]"
     ]
    },
    {
     "name": "stdout",
     "output_type": "stream",
     "text": [
      "Error processing 6235d08d84c5df035db77e6a: 'ref'\n"
     ]
    },
    {
     "name": "stderr",
     "output_type": "stream",
     "text": [
      "Processing documents: 15232it [2:21:31,  1.80it/s]"
     ]
    },
    {
     "name": "stdout",
     "output_type": "stream",
     "text": [
      "Error processing 620ddb9d55737b17e0207037: 'operatingHours'\n"
     ]
    },
    {
     "name": "stderr",
     "output_type": "stream",
     "text": [
      "Processing documents: 15326it [2:22:21,  2.29it/s]"
     ]
    },
    {
     "name": "stdout",
     "output_type": "stream",
     "text": [
      "Error processing 620b561121b4677256997e61: 'operatingHours'\n"
     ]
    },
    {
     "name": "stderr",
     "output_type": "stream",
     "text": [
      "Processing documents: 15336it [2:22:26,  1.93it/s]"
     ]
    },
    {
     "name": "stdout",
     "output_type": "stream",
     "text": [
      "Error processing 620b49544d0d2e14856dac71: 'ref'\n"
     ]
    },
    {
     "name": "stderr",
     "output_type": "stream",
     "text": [
      "Processing documents: 15432it [2:23:19,  1.67it/s]"
     ]
    },
    {
     "name": "stdout",
     "output_type": "stream",
     "text": [
      "Error processing 6205821b451d8a727aa16739: 'en'\n"
     ]
    },
    {
     "name": "stderr",
     "output_type": "stream",
     "text": [
      "Processing documents: 15481it [2:23:47,  1.94it/s]"
     ]
    },
    {
     "name": "stdout",
     "output_type": "stream",
     "text": [
      "Error processing 62032265fe92446d1f23f7ff: 'ref'\n"
     ]
    },
    {
     "name": "stderr",
     "output_type": "stream",
     "text": [
      "Processing documents: 15532it [2:24:18,  1.72it/s]"
     ]
    },
    {
     "name": "stdout",
     "output_type": "stream",
     "text": [
      "Error processing 61fde04979583809ef042707: 'operatingDates'\n"
     ]
    },
    {
     "name": "stderr",
     "output_type": "stream",
     "text": [
      "Processing documents: 15553it [2:24:31,  1.76it/s]"
     ]
    },
    {
     "name": "stdout",
     "output_type": "stream",
     "text": [
      "Error processing 61da0f6fb878b1002940f909: 'ref'\n"
     ]
    },
    {
     "name": "stderr",
     "output_type": "stream",
     "text": [
      "Processing documents: 15588it [2:24:45,  1.77it/s]"
     ]
    },
    {
     "name": "stdout",
     "output_type": "stream",
     "text": [
      "Error processing 61c3c50998a36d5318b3e3bf: 'ref'\n"
     ]
    },
    {
     "name": "stderr",
     "output_type": "stream",
     "text": [
      "Processing documents: 15640it [2:25:15,  1.64it/s]"
     ]
    },
    {
     "name": "stdout",
     "output_type": "stream",
     "text": [
      "Error processing 619c6ddc1443c14e18a9b590: 'ref'\n"
     ]
    },
    {
     "name": "stderr",
     "output_type": "stream",
     "text": [
      "Processing documents: 15643it [2:25:16,  2.12it/s]"
     ]
    },
    {
     "name": "stdout",
     "output_type": "stream",
     "text": [
      "Error processing 619c69861443c14e18a98552: 'ref'\n"
     ]
    },
    {
     "name": "stderr",
     "output_type": "stream",
     "text": [
      "Processing documents: 15664it [2:25:27,  1.69it/s]"
     ]
    },
    {
     "name": "stdout",
     "output_type": "stream",
     "text": [
      "Error processing 6196ffdf07f20a52db927e1a: 'ref'\n"
     ]
    },
    {
     "name": "stderr",
     "output_type": "stream",
     "text": [
      "Processing documents: 15671it [2:25:31,  1.79it/s]\n"
     ]
    }
   ],
   "execution_count": 8
  },
  {
   "cell_type": "code",
   "execution_count": null,
   "id": "147d914f33c602c9",
   "metadata": {},
   "outputs": [],
   "source": []
  }
 ],
 "metadata": {
  "kernelspec": {
   "display_name": "Python 3",
   "language": "python",
   "name": "python3"
  },
  "language_info": {
   "codemirror_mode": {
    "name": "ipython",
    "version": 3
   },
   "file_extension": ".py",
   "mimetype": "text/x-python",
   "name": "python",
   "nbconvert_exporter": "python",
   "pygments_lexer": "ipython3",
   "version": "3.9.6"
  }
 },
 "nbformat": 4,
 "nbformat_minor": 5
}
