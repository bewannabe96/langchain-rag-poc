{
 "cells": [
  {
   "metadata": {},
   "cell_type": "markdown",
   "source": "# Content Embedding",
   "id": "96ed1ca95dfb4614"
  },
  {
   "cell_type": "code",
   "id": "d3fb61a822ffc52a",
   "metadata": {
    "collapsed": true,
    "ExecuteTime": {
     "end_time": "2024-11-26T07:59:39.529088Z",
     "start_time": "2024-11-26T07:59:39.524576Z"
    }
   },
   "source": [
    "from dotenv import load_dotenv\n",
    "import requests\n",
    "from bs4 import BeautifulSoup\n",
    "from urllib.parse import urlparse, parse_qs, urlencode, urlunparse\n",
    "import base64\n",
    "import httpx\n",
    "\n",
    "from langchain_core.prompts import ChatPromptTemplate\n",
    "from langchain_openai import ChatOpenAI\n",
    "from langchain_core.messages import HumanMessage, SystemMessage\n",
    "\n",
    "load_dotenv()"
   ],
   "outputs": [
    {
     "data": {
      "text/plain": [
       "True"
      ]
     },
     "execution_count": 80,
     "metadata": {},
     "output_type": "execute_result"
    }
   ],
   "execution_count": 80
  },
  {
   "metadata": {
    "ExecuteTime": {
     "end_time": "2024-11-26T08:08:02.848702Z",
     "start_time": "2024-11-26T08:08:02.030550Z"
    }
   },
   "cell_type": "code",
   "source": [
    "response = requests.get('https://app.daytrip.io/ko/daylog/672da1fc7a109e225c15a591')\n",
    "html_content = response.text\n",
    "\n",
    "soup = BeautifulSoup(html_content, 'html.parser')\n",
    "\n",
    "name = soup.select_one('main > header > div > h1').text\n",
    "location, space_type = soup.select_one('main > header > div > p').text.split(' • ')\n",
    "username = soup.select_one('main > section > div > label').text\n",
    "description = '\\n'.join([line for line in soup.select_one('main > section > p').strings])\n",
    "\n",
    "# download images\n",
    "images_div = soup.select_one('main > header > div > div > div')\n",
    "image_srcs = [img['src'] for img in images_div.find_all('img') if 'src' in img.attrs]\n",
    "encoded_images = []\n",
    "total_image_size = 0\n",
    "for url in image_srcs:\n",
    "    parsed_url = urlparse(url)\n",
    "    query_params = parse_qs(parsed_url.query)\n",
    "    \n",
    "    query_params.update({ 'fmt': 'jpg', 'fit': 'outside', 'w': '500', 'h': '500' })\n",
    "    \n",
    "    new_query = urlencode(query_params, doseq=True)\n",
    "    new_url = urlunparse(parsed_url._replace(query=new_query))\n",
    "\n",
    "    image_data = base64.b64encode(httpx.get(new_url).content).decode(\"utf-8\")\n",
    "    total_image_size += len(image_data)\n",
    "    \n",
    "    encoded_images.append(image_data)\n",
    "    \n",
    "print(f\"Total image size: {total_image_size}\")"
   ],
   "id": "initial_id",
   "outputs": [
    {
     "name": "stdout",
     "output_type": "stream",
     "text": [
      "Total image size: 1464992\n"
     ]
    }
   ],
   "execution_count": 97
  },
  {
   "metadata": {
    "ExecuteTime": {
     "end_time": "2024-11-26T08:32:33.636330Z",
     "start_time": "2024-11-26T08:32:33.621018Z"
    }
   },
   "cell_type": "code",
   "source": "llm = ChatOpenAI(model=\"gpt-4o\")",
   "id": "3ab7bcd2e5db37da",
   "outputs": [],
   "execution_count": 107
  },
  {
   "metadata": {
    "ExecuteTime": {
     "end_time": "2024-11-26T08:46:38.504749Z",
     "start_time": "2024-11-26T08:46:00.044405Z"
    }
   },
   "cell_type": "code",
   "source": [
    "image_descriptions = []\n",
    "for encoded_image in encoded_images:\n",
    "    messages = [\n",
    "        SystemMessage((\n",
    "            \"You are an AI that generates descriptions for image.\\n\"\n",
    "            \"Given a image, provide a brief description of what you see.\\n\"\n",
    "            \"\\n\"\n",
    "            \"Always respond in English.\"\n",
    "        )),\n",
    "        HumanMessage(content=[\n",
    "            {\"type\": \"image_url\", \"image_url\": {\"url\": f\"data:image/jpeg;base64,{encoded_image}\"}},\n",
    "        ]),\n",
    "    ]\n",
    "\n",
    "    response = llm.invoke(messages)\n",
    "    image_descriptions.append(response.content.replace(\"\\n\", \"\"))"
   ],
   "id": "569f3e346181baba",
   "outputs": [],
   "execution_count": 112
  },
  {
   "metadata": {
    "ExecuteTime": {
     "end_time": "2024-11-26T08:54:07.556487Z",
     "start_time": "2024-11-26T08:54:07.553251Z"
    }
   },
   "cell_type": "code",
   "source": [
    "chain_input = {\n",
    "    \"name\": name,\n",
    "    \"type\": space_type,\n",
    "    \"location\": location,\n",
    "    \"image_descriptions\": \"\\n\".join([f\"- {description}\" for description in image_descriptions]),\n",
    "    \"description\": description,\n",
    "}"
   ],
   "id": "c1081dea16f60ea",
   "outputs": [],
   "execution_count": 124
  },
  {
   "metadata": {
    "ExecuteTime": {
     "end_time": "2024-11-26T09:30:46.074544Z",
     "start_time": "2024-11-26T09:30:46.068855Z"
    }
   },
   "cell_type": "code",
   "source": [
    "prompt = ChatPromptTemplate.from_messages(\n",
    "    [\n",
    "        (\"system\", (\n",
    "            \"You will be generating description of place where your descript will be used for search.\\n\"\n",
    "            \"You are encouraged to summarize images more than description provided.\\n\"\n",
    "            \"\\n\"\n",
    "            \"These are points you should focus specifically:\\n\"\n",
    "            \"- type of the place (i.e. restaurant, cafe, bakery, bookstore, etc.)\\n\"\n",
    "            \"- mood (i.e. cozy, modern, dark, etc.)\\n\"\n",
    "            \"- location\\n\"\n",
    "            \"- what the place offer\"\n",
    "            \"- what people can do\"\n",
    "            \"\\n\"\n",
    "            \"Please follow the below restrictions:\\n\"\n",
    "            \"- Always respond in English.\\n\"\n",
    "            \"- Write in 100-200 words.\\n\"\n",
    "            \"- Write in a descriptive rather than a suggestive tone.\\n\"\n",
    "        )),\n",
    "        (\"user\", (\n",
    "            \"These are information of the place:\\n\"\n",
    "            \"\\n\"\n",
    "            \"[Name] {name}\\n\"\n",
    "            \"[Type] {type}\\n\"\n",
    "            \"[Region] {location}\\n\"\n",
    "            \"\\n\"\n",
    "            \"[Descriptions of Place Images]\\n\"\n",
    "            \"{image_descriptions}\\n\"\n",
    "            \"\\n\"\n",
    "            \"[Description]\\n\"\n",
    "            \"{description}\\n\"\n",
    "        ))\n",
    "    ]\n",
    ")\n",
    "\n",
    "prompt.invoke(chain_input).to_messages()[-1].pretty_print()"
   ],
   "id": "cc65197217f54684",
   "outputs": [
    {
     "name": "stdout",
     "output_type": "stream",
     "text": [
      "================================\u001B[1m Human Message \u001B[0m=================================\n",
      "\n",
      "These are information of the place:\n",
      "\n",
      "[Name] 고든램지 스트리트 버거\n",
      "[Type] 음식점\n",
      "[Location] 서울, 강남구\n",
      "\n",
      "[Descriptions of Place Images]\n",
      "- The image shows the entrance to a restaurant named \"Street Burger\" by Gordon Ramsay. The entrance features a bright sign above and has open doors leading inside. The interior has a modern design with a visible counter and seating area where people are dining. The flooring has a herringbone pattern, and there are decorative elements on the walls, including text.\n",
      "- The image shows a modern restaurant interior with a large communal wooden table surrounded by black stools. The ceiling is decorated with bold, white, three-dimensional letters. In the background, there is a counter area where customers can place and pick up orders. Several people are seated at the table, enjoying their meals. The atmosphere is casual and contemporary.\n",
      "- The image shows a modern, casual dining area with people seated at tables. The ceiling features an artistic design with large, illuminated letters. The room has a warm ambiance with various framed pictures on the walls, and the seating arrangement includes long tables with benches.\n",
      "- The image shows a neon sign reading \"Street Burger Gordon Ramsay\" with a stylized face logo above it. Below the sign, there are caps displayed with the same \"Street Burger\" logo. The setting appears to be a casual dining or retail area.\n",
      "- The image shows a modern fast-food counter with sections for \"Pick Up\" and \"Order Here.\" Above the counter, there are digital menu screens displaying items like \"Best Sides\" and \"Special Drinks.\" The interior has a sleek design with visible kitchen equipment and a beverage dispenser in the background. There are also merchandise items like caps and mugs displayed on shelves to the left.\n",
      "- The image shows a retail display with several shelves. The top shelf holds a row of mugs, the middle shelf contains clear cups, and the third shelf features caps with a logo. Below them, there is a sign that reads \"Street Burger\" and an apron or bag. The display is well-organized and neatly arranged.\n",
      "- This image shows a table filled with a variety of food items. There are trays with burgers and fries, a bowl of crispy chicken strips, a dish of nachos topped with sauce and garnishes, and several drinks, including a milkshake and a cocktail. The setting appears to be a casual dining restaurant.\n",
      "- The image shows two dishes. The top dish is a bowl of nachos topped with melted cheese, guacamole, diced tomatoes, and drizzled with a white sauce. A hand is holding a nacho chip. The bottom dish is a bowl of crispy fried chicken wings served in a paper-lined bowl.\n",
      "- The image shows two trays of burgers with fries. The top tray features a burger with a sunny-side-up egg, lettuce, and tomato, served on a brioche bun. A side of golden fries is visible in the background.The bottom tray has a burger with cheese, tortilla chips, and red onion, also on a brioche bun. It is accompanied by a portion of fries on the side. Both trays are lined with paper branded \"Street Burger.\"\n",
      "- The image shows two glasses of milkshakes on a table. The shake on the left appears to be an Oreo milkshake with whipped cream and a cookie on top, while the one on the right looks like a plain milkshake. In front of the milkshakes, there is a slice of chocolate dessert topped with whipped cream, presented in a clear dish.\n",
      "\n",
      "[Description]\n",
      "고든램지 스트리트 버거 신메뉴 5종 출시!\n",
      "고든램지의 버거를 합리적인 가격으로\n",
      "맛볼 수 있는 캐주얼 버거 브랜드\n",
      "고든램지 스트리트 버거에서 11월 4일\n",
      "신메뉴 5종을 출시했습니다.\n",
      "특히, 현대백화점 무역센터점은 2020년\n",
      "영국 런칭 후 첫 해외에 오픈한 글로벌\n",
      "첫 매장으로 많은 주목을 받았는데요.\n",
      "이번 신메뉴는 멕시칸 스매시 버거,\n",
      "나초, 스트리트 치킨, 바닐라 셰이크,\n",
      "오레오 초콜릿 크림파이입니다.\n",
      "특히, 자극적이지 않고 재료간 조화가\n",
      "인상적인 맛으로 감자튀김과 나초,\n",
      "셰이크가 킥입니다.\n",
      "디저트인 오레오 초콜릿 크림파이도\n",
      "꾸덕하고 촉촉한 초콜릿과 크림이\n",
      "입가에 맴도는 맛입니다.\n",
      "또한 신메뉴 4종 이상 구입시 스크래처 쿠폰도\n",
      "제공하고, 바닐라 셰이크 출시 기념으로\n",
      "버거 단품+10,000원 추가 시 바닐라 셰이크+\n",
      "프라이즈 세트로 업그레이드도 해줍니다.\n",
      "(기간: 11월 5일 ~ 11월 30일)\n",
      "쉐프들이 조리하는 진짜 수제버거와\n",
      "다양한 조합을 즐기러 고든램지 스트리트\n",
      "버거로 떠나볼까요?\n",
      "#고든램지스트리트버거 \n",
      "@gordonramseystreetburger \n",
      "• 위치: 서울 강남구 테헤란로 517 현대백화점 무역센터점 B1층(무역센터점)\n",
      "• 영업시간: 매일 10:30~20:30\n",
      "✔️ 현대백화점 무역센터점 정기휴무일에 휴무\n",
      "• 주차 ⭕️\n",
      "\n"
     ]
    }
   ],
   "execution_count": 150
  },
  {
   "metadata": {
    "ExecuteTime": {
     "end_time": "2024-11-26T09:43:08.957946Z",
     "start_time": "2024-11-26T09:43:08.945844Z"
    }
   },
   "cell_type": "code",
   "source": [
    "prompt = ChatPromptTemplate.from_messages(\n",
    "    [\n",
    "        (\"system\", (\n",
    "            \"You are a location description expert specializing in writing short summaries for search engines.\"\n",
    "            \"Focus on capturing the ambiance, purpose, and unique experience of each location to help users find places \"\n",
    "            \"that match their specific needs,such as \\\"a quiet bar for two\\\" or \\\"a lively spot for group fun.\\\"\\n\"\n",
    "            \"\\n\"\n",
    "            \"Please write a concise, 100-150 words description for a location \"\n",
    "            \"that highlights its ambiance, purpose, and unique experience, making it highly relevant to user searches.\\n\"\n",
    "            \"\\n\"\n",
    "            \"Always respond in English.\\n\"\n",
    "            \"Focus more on images than descriptions provided.\\n\"\n",
    "        )),\n",
    "        (\"user\", (\n",
    "            \"These are information of the place:\\n\"\n",
    "            \"\\n\"\n",
    "            \"[Name] {name}\\n\"\n",
    "            \"[Type] {type}\\n\"\n",
    "            \"[Region] {location}\\n\"\n",
    "            \"\\n\"\n",
    "            \"[Descriptions of Place Images]\\n\"\n",
    "            \"{image_descriptions}\\n\"\n",
    "            \"\\n\"\n",
    "            \"[Description]\\n\"\n",
    "            \"{description}\\n\"\n",
    "        ))\n",
    "    ]\n",
    ")\n",
    "\n",
    "prompt.invoke(chain_input).to_messages()[-1].pretty_print()"
   ],
   "id": "d80d1eae5b982bd6",
   "outputs": [
    {
     "name": "stdout",
     "output_type": "stream",
     "text": [
      "================================\u001B[1m Human Message \u001B[0m=================================\n",
      "\n",
      "These are information of the place:\n",
      "\n",
      "[Name] 고든램지 스트리트 버거\n",
      "[Type] 음식점\n",
      "[Region] 서울, 강남구\n",
      "\n",
      "[Descriptions of Place Images]\n",
      "- The image shows the entrance to a restaurant named \"Street Burger\" by Gordon Ramsay. The entrance features a bright sign above and has open doors leading inside. The interior has a modern design with a visible counter and seating area where people are dining. The flooring has a herringbone pattern, and there are decorative elements on the walls, including text.\n",
      "- The image shows a modern restaurant interior with a large communal wooden table surrounded by black stools. The ceiling is decorated with bold, white, three-dimensional letters. In the background, there is a counter area where customers can place and pick up orders. Several people are seated at the table, enjoying their meals. The atmosphere is casual and contemporary.\n",
      "- The image shows a modern, casual dining area with people seated at tables. The ceiling features an artistic design with large, illuminated letters. The room has a warm ambiance with various framed pictures on the walls, and the seating arrangement includes long tables with benches.\n",
      "- The image shows a neon sign reading \"Street Burger Gordon Ramsay\" with a stylized face logo above it. Below the sign, there are caps displayed with the same \"Street Burger\" logo. The setting appears to be a casual dining or retail area.\n",
      "- The image shows a modern fast-food counter with sections for \"Pick Up\" and \"Order Here.\" Above the counter, there are digital menu screens displaying items like \"Best Sides\" and \"Special Drinks.\" The interior has a sleek design with visible kitchen equipment and a beverage dispenser in the background. There are also merchandise items like caps and mugs displayed on shelves to the left.\n",
      "- The image shows a retail display with several shelves. The top shelf holds a row of mugs, the middle shelf contains clear cups, and the third shelf features caps with a logo. Below them, there is a sign that reads \"Street Burger\" and an apron or bag. The display is well-organized and neatly arranged.\n",
      "- This image shows a table filled with a variety of food items. There are trays with burgers and fries, a bowl of crispy chicken strips, a dish of nachos topped with sauce and garnishes, and several drinks, including a milkshake and a cocktail. The setting appears to be a casual dining restaurant.\n",
      "- The image shows two dishes. The top dish is a bowl of nachos topped with melted cheese, guacamole, diced tomatoes, and drizzled with a white sauce. A hand is holding a nacho chip. The bottom dish is a bowl of crispy fried chicken wings served in a paper-lined bowl.\n",
      "- The image shows two trays of burgers with fries. The top tray features a burger with a sunny-side-up egg, lettuce, and tomato, served on a brioche bun. A side of golden fries is visible in the background.The bottom tray has a burger with cheese, tortilla chips, and red onion, also on a brioche bun. It is accompanied by a portion of fries on the side. Both trays are lined with paper branded \"Street Burger.\"\n",
      "- The image shows two glasses of milkshakes on a table. The shake on the left appears to be an Oreo milkshake with whipped cream and a cookie on top, while the one on the right looks like a plain milkshake. In front of the milkshakes, there is a slice of chocolate dessert topped with whipped cream, presented in a clear dish.\n",
      "\n",
      "[Description]\n",
      "고든램지 스트리트 버거 신메뉴 5종 출시!\n",
      "고든램지의 버거를 합리적인 가격으로\n",
      "맛볼 수 있는 캐주얼 버거 브랜드\n",
      "고든램지 스트리트 버거에서 11월 4일\n",
      "신메뉴 5종을 출시했습니다.\n",
      "특히, 현대백화점 무역센터점은 2020년\n",
      "영국 런칭 후 첫 해외에 오픈한 글로벌\n",
      "첫 매장으로 많은 주목을 받았는데요.\n",
      "이번 신메뉴는 멕시칸 스매시 버거,\n",
      "나초, 스트리트 치킨, 바닐라 셰이크,\n",
      "오레오 초콜릿 크림파이입니다.\n",
      "특히, 자극적이지 않고 재료간 조화가\n",
      "인상적인 맛으로 감자튀김과 나초,\n",
      "셰이크가 킥입니다.\n",
      "디저트인 오레오 초콜릿 크림파이도\n",
      "꾸덕하고 촉촉한 초콜릿과 크림이\n",
      "입가에 맴도는 맛입니다.\n",
      "또한 신메뉴 4종 이상 구입시 스크래처 쿠폰도\n",
      "제공하고, 바닐라 셰이크 출시 기념으로\n",
      "버거 단품+10,000원 추가 시 바닐라 셰이크+\n",
      "프라이즈 세트로 업그레이드도 해줍니다.\n",
      "(기간: 11월 5일 ~ 11월 30일)\n",
      "쉐프들이 조리하는 진짜 수제버거와\n",
      "다양한 조합을 즐기러 고든램지 스트리트\n",
      "버거로 떠나볼까요?\n",
      "#고든램지스트리트버거 \n",
      "@gordonramseystreetburger \n",
      "• 위치: 서울 강남구 테헤란로 517 현대백화점 무역센터점 B1층(무역센터점)\n",
      "• 영업시간: 매일 10:30~20:30\n",
      "✔️ 현대백화점 무역센터점 정기휴무일에 휴무\n",
      "• 주차 ⭕️\n",
      "\n"
     ]
    }
   ],
   "execution_count": 156
  },
  {
   "metadata": {
    "ExecuteTime": {
     "end_time": "2024-11-26T09:43:13.749727Z",
     "start_time": "2024-11-26T09:43:09.859597Z"
    }
   },
   "cell_type": "code",
   "source": [
    "chain = prompt | llm\n",
    "\n",
    "response = chain.invoke(chain_input)\n",
    "print(response.content)"
   ],
   "id": "9f8510b28bfd626b",
   "outputs": [
    {
     "name": "stdout",
     "output_type": "stream",
     "text": [
      "Gordon Ramsay Street Burger in Seoul's bustling Gangnam district offers a chic yet casual dining experience perfect for burger enthusiasts. Step into a modern space with bold décor and a lively atmosphere, where large communal tables invite group gatherings. This globally renowned spot, the first international branch outside the UK, serves up gourmet street burgers like the Mexican Smash Burger, alongside indulgent sides such as crispy nachos and signature fries. The menu also features delightful shakes, including the new Vanilla Shake, and sweet treats like the Oreo Chocolate Cream Pie. Ideal for casual hangouts or quick bites, this venue combines a fast-food vibe with gourmet flair, making it an excellent choice for both locals and visitors seeking quality burgers crafted by top chefs. Enjoy special promotions and a vibrant culinary experience in this contemporary eatery.\n"
     ]
    }
   ],
   "execution_count": 157
  },
  {
   "metadata": {
    "ExecuteTime": {
     "end_time": "2024-11-26T09:23:31.535239Z",
     "start_time": "2024-11-26T09:23:31.532735Z"
    }
   },
   "cell_type": "code",
   "source": "",
   "id": "28b792004476073a",
   "outputs": [],
   "execution_count": 144
  },
  {
   "metadata": {},
   "cell_type": "code",
   "outputs": [],
   "execution_count": null,
   "source": "",
   "id": "e59581239edb96d3"
  }
 ],
 "metadata": {
  "kernelspec": {
   "display_name": "Python 3",
   "language": "python",
   "name": "python3"
  },
  "language_info": {
   "codemirror_mode": {
    "name": "ipython",
    "version": 2
   },
   "file_extension": ".py",
   "mimetype": "text/x-python",
   "name": "python",
   "nbconvert_exporter": "python",
   "pygments_lexer": "ipython2",
   "version": "2.7.6"
  }
 },
 "nbformat": 4,
 "nbformat_minor": 5
}
