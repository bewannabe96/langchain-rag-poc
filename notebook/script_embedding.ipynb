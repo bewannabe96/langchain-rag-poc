{
 "cells": [
  {
   "cell_type": "code",
   "id": "1260e85c2cfa2685",
   "metadata": {
    "collapsed": true,
    "ExecuteTime": {
     "end_time": "2024-12-09T10:20:59.507777Z",
     "start_time": "2024-12-09T10:20:58.789050Z"
    }
   },
   "source": [
    "import os\n",
    "\n",
    "from dotenv import load_dotenv\n",
    "from langchain_core.documents import Document\n",
    "from langchain_mongodb import MongoDBAtlasVectorSearch\n",
    "from langchain_openai import OpenAIEmbeddings\n",
    "from pymongo import MongoClient\n",
    "from tqdm import tqdm\n",
    "\n",
    "from langchain_rag.embedding.summarizer import Summarizer\n",
    "\n",
    "load_dotenv()"
   ],
   "outputs": [
    {
     "name": "stderr",
     "output_type": "stream",
     "text": [
      "/Users/sookhyun/Documents/personal/langchain-rag-poc/.venv/lib/python3.9/site-packages/urllib3/__init__.py:35: NotOpenSSLWarning: urllib3 v2 only supports OpenSSL 1.1.1+, currently the 'ssl' module is compiled with 'LibreSSL 2.8.3'. See: https://github.com/urllib3/urllib3/issues/3020\n",
      "  warnings.warn(\n"
     ]
    },
    {
     "data": {
      "text/plain": [
       "True"
      ]
     },
     "execution_count": 1,
     "metadata": {},
     "output_type": "execute_result"
    }
   ],
   "execution_count": 1
  },
  {
   "cell_type": "code",
   "id": "initial_id",
   "metadata": {
    "ExecuteTime": {
     "end_time": "2024-12-09T08:14:49.900978Z",
     "start_time": "2024-12-09T08:14:49.758881Z"
    }
   },
   "source": [
    "prod_mongo_client = MongoClient(os.environ[\"MONGO_CONNECTION_STRING\"])\n",
    "dev_mongo_client = MongoClient(os.environ[\"MONGO_CONNECTION_STRING\"])\n",
    "summarizer = Summarizer()"
   ],
   "outputs": [],
   "execution_count": 2
  },
  {
   "metadata": {
    "ExecuteTime": {
     "end_time": "2024-12-09T08:14:50.292534Z",
     "start_time": "2024-12-09T08:14:50.284240Z"
    }
   },
   "cell_type": "code",
   "source": [
    "embeddings = OpenAIEmbeddings(model=\"text-embedding-3-small\", dimensions=1536)\n",
    "\n",
    "vector_store = MongoDBAtlasVectorSearch(\n",
    "    collection=dev_mongo_client[\"lab_dev\"][\"langchain_embedding\"],\n",
    "    index_name=\"test_vector_store_index\",\n",
    "    relevance_score_fn=\"cosine\",\n",
    "    embedding=embeddings,\n",
    ")"
   ],
   "id": "516bf8b65445b5f",
   "outputs": [],
   "execution_count": 3
  },
  {
   "cell_type": "code",
   "id": "17d7ffe11bc5a49c",
   "metadata": {
    "ExecuteTime": {
     "end_time": "2024-12-09T08:15:20.771003Z",
     "start_time": "2024-12-09T08:14:50.848620Z"
    }
   },
   "source": [
    "cursor = dev_mongo_client[\"lab_dev\"][\"langchain_existing_embedding\"].find({}, {})\n",
    "\n",
    "dev_mongo_client[\"lab_dev\"][\"langchain_embedding\"].update_many({}, {\"$set\": {\"isHidden\": True}})\n",
    "\n",
    "for mongo_doc in tqdm(cursor, desc=\"Embedding documents\"):\n",
    "    content_id = str(mongo_doc[\"content_id\"])\n",
    "    \n",
    "    embedding_doc = dev_mongo_client[\"lab_dev\"][\"langchain_embedding\"].find_one({\"content_id\": content_id}, {\"_id\": 1})\n",
    "    if embedding_doc is not None:\n",
    "        dev_mongo_client[\"lab_dev\"][\"langchain_embedding\"].update_one({\"content_id\": content_id}, {\"$set\": {\"isHidden\": False}})\n",
    "        continue\n",
    "    \n",
    "    try:\n",
    "        summary = summarizer.summarize_content(content_id, embed_image_count=3)\n",
    "        doc = Document(page_content=summary, metadata={\"content_id\": content_id, \"isHidden\": False})\n",
    "        vector_store.add_documents(documents=[doc])\n",
    "    except Exception as e:\n",
    "        print(f\"Error occurred while embedding documents [{content_id}]: {e}\")"
   ],
   "outputs": [
    {
     "name": "stderr",
     "output_type": "stream",
     "text": [
      "Embedding documents: 100it [00:29,  3.36it/s]\n"
     ]
    }
   ],
   "execution_count": 4
  },
  {
   "metadata": {},
   "cell_type": "code",
   "outputs": [],
   "execution_count": null,
   "source": "",
   "id": "bc954a79e2d789aa"
  }
 ],
 "metadata": {
  "kernelspec": {
   "display_name": "Python 3",
   "language": "python",
   "name": "python3"
  },
  "language_info": {
   "codemirror_mode": {
    "name": "ipython",
    "version": 2
   },
   "file_extension": ".py",
   "mimetype": "text/x-python",
   "name": "python",
   "nbconvert_exporter": "python",
   "pygments_lexer": "ipython2",
   "version": "2.7.6"
  }
 },
 "nbformat": 4,
 "nbformat_minor": 5
}
