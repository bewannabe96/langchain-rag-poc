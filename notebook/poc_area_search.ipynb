{
 "cells": [
  {
   "metadata": {
    "ExecuteTime": {
     "end_time": "2025-01-10T08:58:26.780723Z",
     "start_time": "2025-01-10T08:58:26.139724Z"
    }
   },
   "cell_type": "code",
   "source": [
    "\n",
    "from dotenv import load_dotenv\n",
    "\n",
    "load_dotenv()\n",
    "\n",
    "import os\n",
    "import json\n",
    "from langchain_mongodb import MongoDBAtlasVectorSearch\n",
    "from langchain_openai import OpenAIEmbeddings\n",
    "from pymongo import MongoClient\n",
    "from langchain_core.documents import Document"
   ],
   "id": "7650d17a95cd6d94",
   "outputs": [],
   "execution_count": 1
  },
  {
   "metadata": {
    "ExecuteTime": {
     "end_time": "2025-01-10T08:58:27.390996Z",
     "start_time": "2025-01-10T08:58:27.314588Z"
    }
   },
   "cell_type": "code",
   "source": "client = MongoClient(os.environ[\"SPACE_VECTOR_STORE_MONGO_CONN_STR\"])\n",
   "id": "7c9ee4d7db479d6",
   "outputs": [],
   "execution_count": 2
  },
  {
   "metadata": {
    "ExecuteTime": {
     "end_time": "2025-01-10T08:58:28.294711Z",
     "start_time": "2025-01-10T08:58:28.292017Z"
    }
   },
   "cell_type": "code",
   "source": "query = \"서교동\"",
   "id": "579ed69617b5200a",
   "outputs": [],
   "execution_count": 3
  },
  {
   "metadata": {
    "ExecuteTime": {
     "end_time": "2025-01-10T09:01:03.197595Z",
     "start_time": "2025-01-10T09:00:58.162925Z"
    }
   },
   "cell_type": "code",
   "source": [
    "vector_store = MongoDBAtlasVectorSearch(\n",
    "    embedding=OpenAIEmbeddings(model=\"text-embedding-3-small\", dimensions=1536),\n",
    "    relevance_score_fn=\"cosine\",\n",
    "    collection=client[\"vector_store\"][\"area\"],\n",
    "    index_name=\"area_name_vector_index\",\n",
    "    text_key=\"name\",\n",
    "    embedding_key=\"name_embedding\",\n",
    ")\n",
    "\n",
    "# vector_store.create_vector_search_index(dimensions=1536)\n",
    "\n",
    "cursor = client[\"daytrip_area\"][\"node\"].find({}, {\"_id\": 1, \"name\": 1})\n",
    "documents = []\n",
    "for doc in cursor:\n",
    "    documents.append(Document(\n",
    "        page_content=json.dumps(doc[\"name\"], ensure_ascii=False),\n",
    "        metadata={\"area_id\": str(doc[\"_id\"])}\n",
    "    ))\n",
    "    \n",
    "vector_store.add_documents(documents=documents)"
   ],
   "id": "6812b289dd32d449",
   "outputs": [
    {
     "name": "stderr",
     "output_type": "stream",
     "text": [
      "Exception ignored in: <bound method IPythonKernel._clean_thread_parent_frames of <ipykernel.ipkernel.IPythonKernel object at 0x10048bfe0>>\n",
      "Traceback (most recent call last):\n",
      "  File \"/Users/sookhyun/Documents/personal/langchain-rag-poc/.venv/lib/python3.12/site-packages/ipykernel/ipkernel.py\", line 775, in _clean_thread_parent_frames\n",
      "KeyboardInterrupt: \n",
      "\n",
      "KeyboardInterrupt\n",
      "\n"
     ]
    }
   ],
   "execution_count": 6
  },
  {
   "metadata": {
    "ExecuteTime": {
     "end_time": "2025-01-10T08:10:49.671049Z",
     "start_time": "2025-01-10T08:10:49.230672Z"
    }
   },
   "cell_type": "code",
   "source": [
    "retriever = vector_store.as_retriever(search_type=\"similarity\", search_kwargs={\"k\": 100})\n",
    "\n",
    "documents = retriever.invoke(\"서교동\")\n",
    "for doc in documents:\n",
    "    print(doc.page_content)"
   ],
   "id": "d3599bb0b2717eaa",
   "outputs": [
    {
     "name": "stdout",
     "output_type": "stream",
     "text": [
      "{\"ko\": \"상교동\", \"en\": \"Sangyo-dong\", \"id\": \"Sangyo-dong\"}\n",
      "{\"ko\": \"교동\", \"en\": \"Gyo-dong\", \"id\": \"Gyo-dong\"}\n",
      "{\"ko\": \"교동\", \"en\": \"Gyo-dong\", \"id\": \"Gyo-dong\"}\n",
      "{\"en\": \"주교동\", \"zh\": \"舟橋洞\"}\n",
      "{\"ko\": \"석교동\", \"en\": \"Seokgyo-dong\", \"id\": \"Seokgyo-dong\"}\n",
      "{\"ko\": \"팔당대교\", \"en\": \"Paldang Bridge\"}\n",
      "{\"ko\": \"교하동\", \"en\": \"Gyoha-dong\", \"id\": \"Gyoha-dong\"}\n",
      "{\"ko\": \"삼선동\", \"en\": \"Samseon-dong\"}\n",
      "{\"ko\": \"동대구역\", \"en\": \"Dongdaegu Station\"}\n",
      "{\"ko\": \"관교동\", \"en\": \"Gwangyo-dong\", \"id\": \"Gwangyo-dong\"}\n",
      "{\"ko\": \"용산역\", \"en\": \"Yongsan Station\", \"id\": \"Yongsan Station\"}\n",
      "{\"ko\": \"서울역\", \"en\": \"Seoul station\"}\n",
      "{\"en\": \"Songyo District\", \"ru\": \"округ Сонгё\", \"ko\": \"선교구역\", \"ja\": \"船橋区域\"}\n",
      "{\"ko\": \"소공동\", \"en\": \"Sogong-dong\", \"id\": \"Sogong-dong\"}\n",
      "{\"ko\": \"동선동\", \"en\": \"Dongseon-dong\", \"id\": \"Dongseon-dong\"}\n",
      "{\"ko\": \"삼성역\", \"en\": \"Samseong Station\"}\n",
      "{\"ko\": \"대사동\", \"en\": \"Daesa-dong\", \"id\": \"Daesa-dong\"}\n",
      "{\"en\": \"Samseong-dong\", \"ko\": \"삼성동\", \"zh\": \"三聖洞\"}\n",
      "{\"ko\": \"고산동\", \"en\": \"Gosan-dong\", \"id\": \"Gosan-dong\"}\n",
      "{\"en\": \"Gyesu-dong\", \"ko\": \"계수동\", \"ja\": \"桂壽洞\", \"id\": \"Gyesu-dong\"}\n",
      "{\"ko\": \"증산동\", \"en\": \"Jungsan-dong\", \"id\": \"Jungsan-dong\"}\n",
      "{\"ko\": \"삼성동\", \"en\": \"Samseong-dong\"}\n",
      "{\"ko\": \"신사동\", \"en\": \"Sinsa-dong\", \"id\": \"Sinsa-dong\"}\n",
      "{\"ko\": \"신사동\", \"en\": \"Sinsa-dong\", \"id\": \"Sinsa-dong\"}\n",
      "{\"ko\": \"서강동\", \"en\": \"Seogang-dong\"}\n",
      "{\"ko\": \"신포동\", \"en\": \"Sinpo-dong\"}\n",
      "{\"ko\": \"송도동\", \"en\": \"Songdo-dong\"}\n",
      "{\"en\": \"Seondo-dong\", \"ko\": \"선도동\", \"zh\": \"仙桃洞\"}\n",
      "{\"ko\": \"수성동\", \"en\": \"Suseong-dong\", \"id\": \"Suseong-dong\"}\n",
      "{\"ko\": \"송산동\", \"en\": \"Songsan-dong\", \"id\": \"Songsan-dong\"}\n",
      "{\"ko\": \"신수동\", \"en\": \"Sinsu-dong\", \"id\": \"Sinsu-dong\"}\n",
      "{\"ko\": \"삼도2동\", \"en\": \"Samdo 2-dong\", \"id\": \"Samdo 2-dong\"}\n",
      "{\"ko\": \"성성동\", \"en\": \"Seongseong-dong\", \"id\": \"Seongseong-dong\"}\n",
      "{\"ko\": \"수서동\", \"en\": \"Suseo-dong\", \"id\": \"Suseo-dong\"}\n",
      "{\"en\": \"Yeoksam-dong\", \"ja\": \"駅三洞\", \"ko\": \"역삼동\", \"id\": \"Yeoksam-dong\"}\n",
      "{\"ko\": \"옥수동\", \"en\": \"Oksu-dong\", \"id\": \"Oksu-dong\"}\n",
      "{\"ko\": \"독산3동\", \"en\": \"Doksan 3(sam)-dong\", \"id\": \"Doksan 3(sam)-dong\"}\n",
      "{\"en\": \"Jukgyo-dong\", \"ko\": \"죽교동\", \"id\": \"Jukgyo-dong\"}\n",
      "{\"ko\": \"경동\", \"en\": \"Gyeong-dong\", \"id\": \"Gyeong-dong\"}\n",
      "{\"de\": \"Goseong-dong\", \"en\": \"Goseong-dong\", \"ko\": \"고성동\", \"id\": \"Goseong-dong\"}\n",
      "{\"ko\": \"신도림동\", \"en\": \"Sindorim-dong\", \"id\": \"Sindorim-dong\"}\n",
      "{\"ko\": \"송도4동\", \"en\": \"Songdo 4(sa)-dong\", \"id\": \"Songdo 4(sa)-dong\"}\n",
      "{\"en\": \"London Borough of Southwark\", \"ko\": \"서더크 구\"}\n",
      "{\"ko\": \"용운동\", \"en\": \"Yongun-dong\", \"id\": \"Yongun-dong\"}\n",
      "{\"ko\": \"성북동\", \"en\": \"Seongbuk-dong\", \"id\": \"Seongbuk-dong\"}\n",
      "{\"en\": \"도안동\"}\n",
      "{\"en\": \"Samseong-dong\", \"ko\": \"삼성동\", \"ja\": \"三成洞\"}\n",
      "{\"ko\": \"서원동\", \"en\": \"Seowon-dong\", \"id\": \"Seowon-dong\"}\n",
      "{\"ko\": \"중계본동\", \"en\": \"Junggyebon-dong\"}\n",
      "{\"ko\": \"공산동\", \"en\": \"Gongsan-dong\", \"id\": \"Gongsan-dong\"}\n",
      "{\"en\": \"Seorim-dong\", \"ko\": \"서림동\", \"zh\": \"西林洞\"}\n",
      "{\"ko\": \"송촌동\", \"en\": \"Songchon-dong\"}\n",
      "{\"ko\": \"세곡동\", \"en\": \"Segok-dong\", \"id\": \"Segok-dong\"}\n",
      "{\"ko\": \"용강동\", \"en\": \"Yonggang-dong\", \"id\": \"Yonggang-dong\"}\n",
      "{\"ko\": \"외도동\", \"en\": \"Oedo-dong\", \"id\": \"Oedo-dong\"}\n",
      "{\"en\": \"세종동\", \"zh\": \"世宗洞\"}\n",
      "{\"ko\": \"다산동\", \"en\": \"Dasan-dong\", \"id\": \"Dasan-dong\"}\n",
      "{\"en\": \"Sosabon-dong\", \"ko\": \"소사본동\", \"ja\": \"素砂本洞\", \"id\": \"Sosabon-dong\"}\n",
      "{\"ko\": \"운서동\", \"en\": \"Unseo-dong\", \"id\": \"Unseo-dong\"}\n",
      "{\"ko\": \"상도2동\", \"en\": \"Sangdo 2(i)-dong\", \"id\": \"Sangdo 2(i)-dong\"}\n",
      "{\"ko\": \"역삼역\", \"en\": \"Yeoksam Station\"}\n",
      "{\"ko\": \"영등포역\", \"en\": \"Yeongdeungpo Station\", \"id\": \"Yeongdeungpo Station\"}\n",
      "{\"ko\": \"서홍동\", \"en\": \"Seohong-dong\", \"id\": \"Seohong-dong\"}\n",
      "{\"ko\": \"상봉동\", \"en\": \"Sangbong-dong\", \"id\": \"Sangbong-dong\"}\n",
      "{\"ko\": \"사당역\", \"en\": \"Sadang Station\"}\n",
      "{\"ko\": \"신흥동\", \"en\": \"Sinheung-dong\", \"id\": \"Sinheung-dong\"}\n",
      "{\"ko\": \"대륜동\", \"en\": \"Daeryun-dong\"}\n",
      "{\"ko\": \"동다군\", \"en\": \"Dong Da District\"}\n",
      "{\"ko\": \"상도4동\", \"en\": \"Sangdo 4(sa)-dong\", \"id\": \"Sangdo 4(sa)-dong\"}\n",
      "{\"ko\": \"도곡동\", \"en\": \"Dogok-dong\", \"id\": \"Dogok-dong\"}\n",
      "{\"ko\": \"지산동\", \"en\": \"Jisan-dong\", \"id\": \"Jisan-dong\"}\n",
      "{\"en\": \"Seongdong-dong\", \"ko\": \"성동동\", \"zh\": \"城東洞\"}\n",
      "{\"ko\": \"서부2동\", \"en\": \"Seobu 2-dong\", \"id\": \"Seobu 2-dong\"}\n",
      "{\"ko\": \"서초동\", \"en\": \"Seocho-dong\", \"id\": \"Seocho-dong\"}\n",
      "{\"ko\": \"낙성대동\", \"en\": \"Nakseongdae-dong\", \"id\": \"Nakseongdae-dong\"}\n",
      "{\"ko\": \"기성동\", \"en\": \"Giseong-dong\", \"id\": \"Giseong-dong\"}\n",
      "{\"ko\": \"길동\", \"en\": \"Gil-dong\"}\n",
      "{\"ko\": \"정림동\", \"en\": \"Jeongnim-dong\"}\n",
      "{\"ko\": \"삼도1동\", \"en\": \"Samdo 1-dong\", \"id\": \"Samdo 1-dong\"}\n",
      "{\"en\": \"Samsan-dong\", \"ko\": \"삼산동\", \"id\": \"Samsan-dong\"}\n",
      "{\"ko\": \"석관동\", \"en\": \"Seokgwan-dong\", \"id\": \"Seokgwan-dong\"}\n",
      "{\"ko\": \"간석동\", \"en\": \"Ganseok-dong\", \"id\": \"Ganseok-dong\"}\n",
      "{\"ko\": \"한솔동\", \"en\": \"Hansol-dong\"}\n",
      "{\"ko\": \"합정동\", \"en\": \"Hapjeong-dong\"}\n",
      "{\"en\": \"Hogye-dong\", \"ko\": \"호계동\"}\n",
      "{\"ko\": \"연수동\", \"en\": \"Yeonsu-dong\", \"id\": \"Yeonsu-dong\"}\n",
      "{\"ko\": \"북성동\", \"en\": \"Bukseong-dong\", \"id\": \"Bukseong-dong\"}\n",
      "{\"ko\": \"보광동\", \"en\": \"Bogwang-dong\", \"id\": \"Bogwang-dong\"}\n",
      "{\"en\": \"Gyodong-myeon\", \"ko\": \"교동면\", \"zh\": \"喬桐面\"}\n",
      "{\"de\": \"Samdeok-dong\", \"en\": \"Samdeok-dong\", \"ko\": \"삼덕동\", \"id\": \"Samdeok-dong\"}\n",
      "{\"ko\": \"업성동\", \"en\": \"Eopseong-dong\", \"id\": \"Eopseong-dong\"}\n",
      "{\"ko\": \"동성로\", \"en\": \"Dongseong-ro\", \"id\": \"Dongseong-ro\"}\n",
      "{\"ko\": \"계동\", \"en\": \"Gye-dong\", \"id\": \"Gye-dong\"}\n",
      "{\"ko\": \"고천동\", \"en\": \"Gocheon-dong\"}\n",
      "{\"ko\": \"오라동\", \"en\": \"Ora-dong\", \"id\": \"Ora-dong\"}\n",
      "{\"ko\": \"삼양동\", \"en\": \"Samyang-dong\", \"id\": \"Samyang-dong\"}\n",
      "{\"ko\": \"당산2동\", \"en\": \"Dangsan 2(i)-dong\", \"id\": \"Dangsan 2(i)-dong\"}\n",
      "{\"ko\": \"인사동\", \"en\": \"Insa-dong\"}\n",
      "{\"ko\": \"청계동\", \"en\": \"Cheonggye-dong\", \"id\": \"Cheonggye-dong\"}\n",
      "{\"de\": \"Seongdang-dong\", \"en\": \"Seongdang-dong\", \"ko\": \"성당동\", \"id\": \"Seongdang-dong\"}\n"
     ]
    }
   ],
   "execution_count": 42
  },
  {
   "metadata": {
    "ExecuteTime": {
     "end_time": "2025-01-10T07:22:41.714512Z",
     "start_time": "2025-01-10T07:22:41.688583Z"
    }
   },
   "cell_type": "code",
   "source": [
    "cursor = client[\"daytrip_area\"][\"node\"].aggregate([\n",
    "  {\n",
    "    \"$search\": {\n",
    "      \"index\": \"area_node_name_search\",\n",
    "      \"autocomplete\": {\n",
    "        \"query\": query,\n",
    "        \"path\": \"name.en\",\n",
    "        \"fuzzy\": {\n",
    "          \"maxEdits\": 2,\n",
    "          # \"maxExpansions\": 20\n",
    "        }\n",
    "      }\n",
    "    }\n",
    "  },\n",
    "    {\"$limit\": 20},\n",
    "    {\"$project\": {\"_id\": 1, \"name\": 1}}\n",
    "])\n",
    "\n",
    "for doc in cursor:\n",
    "    print(doc)"
   ],
   "id": "ad47e0058be05684",
   "outputs": [
    {
     "name": "stdout",
     "output_type": "stream",
     "text": [
      "{'_id': ObjectId('6475c21cc14f1f5f92386ae1'), 'name': {'ko': '잠실 / 송리단길', 'en': 'Jamsil / Songnidan-gil', 'id': 'Jamsil / Songnidan-gil'}}\n"
     ]
    }
   ],
   "execution_count": 68
  },
  {
   "metadata": {},
   "cell_type": "code",
   "outputs": [],
   "execution_count": null,
   "source": "",
   "id": "41a3b81ed7bad80f"
  }
 ],
 "metadata": {
  "kernelspec": {
   "display_name": "Python 3",
   "language": "python",
   "name": "python3"
  },
  "language_info": {
   "codemirror_mode": {
    "name": "ipython",
    "version": 2
   },
   "file_extension": ".py",
   "mimetype": "text/x-python",
   "name": "python",
   "nbconvert_exporter": "python",
   "pygments_lexer": "ipython2",
   "version": "2.7.6"
  }
 },
 "nbformat": 4,
 "nbformat_minor": 5
}
