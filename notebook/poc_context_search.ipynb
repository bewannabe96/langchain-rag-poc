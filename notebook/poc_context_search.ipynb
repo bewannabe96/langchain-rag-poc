{
 "cells": [
  {
   "cell_type": "code",
   "id": "df0d2783f32950b9",
   "metadata": {
    "ExecuteTime": {
     "end_time": "2024-12-09T10:20:34.198009Z",
     "start_time": "2024-12-09T10:20:34.193601Z"
    }
   },
   "source": [
    "import os\n",
    "import uuid\n",
    "from typing import TypedDict, Sequence, Optional, Type, Annotated\n",
    "\n",
    "from dotenv import load_dotenv\n",
    "from langchain_core.callbacks import CallbackManagerForToolRun\n",
    "from langchain_core.documents import Document\n",
    "from langchain_core.messages import HumanMessage, BaseMessage, AIMessage\n",
    "from langchain_core.prompts import ChatPromptTemplate, SystemMessagePromptTemplate, MessagesPlaceholder\n",
    "from langchain_mongodb import MongoDBAtlasVectorSearch\n",
    "from langchain_openai import ChatOpenAI, OpenAIEmbeddings\n",
    "from langgraph.checkpoint.memory import MemorySaver\n",
    "from langgraph.graph import START, StateGraph, add_messages\n",
    "from pydantic import Field, BaseModel\n",
    "from pymongo import MongoClient\n",
    "from langchain_core.tools import BaseTool\n",
    "\n",
    "load_dotenv()"
   ],
   "outputs": [
    {
     "data": {
      "text/plain": [
       "True"
      ]
     },
     "execution_count": 167,
     "metadata": {},
     "output_type": "execute_result"
    }
   ],
   "execution_count": 167
  },
  {
   "cell_type": "code",
   "id": "5da12b045a8874d",
   "metadata": {
    "ExecuteTime": {
     "end_time": "2024-12-09T03:57:18.065893Z",
     "start_time": "2024-12-09T03:57:18.050588Z"
    }
   },
   "source": "model = ChatOpenAI(model=\"gpt-4o\")",
   "outputs": [],
   "execution_count": 57
  },
  {
   "cell_type": "code",
   "id": "510444b0a2b61791",
   "metadata": {
    "ExecuteTime": {
     "end_time": "2024-12-09T03:57:19.431776Z",
     "start_time": "2024-12-09T03:57:19.388847Z"
    }
   },
   "source": [
    "client = MongoClient(os.environ[\"DEV_MONGO_CONNECTION_STRING\"])\n",
    "\n",
    "embeddings = OpenAIEmbeddings(model=\"text-embedding-3-small\", dimensions=1536)\n",
    "\n",
    "vector_store = MongoDBAtlasVectorSearch(\n",
    "    collection=client[\"lab_dev\"][\"langchain_embedding\"],\n",
    "    index_name=\"test_vector_store_index\",\n",
    "    relevance_score_fn=\"cosine\",\n",
    "    embedding=embeddings,\n",
    ")\n",
    "\n",
    "retriever = vector_store.as_retriever(\n",
    "    search_type=\"similarity\",\n",
    "    search_kwargs={\"k\": 20},\n",
    ")"
   ],
   "outputs": [],
   "execution_count": 58
  },
  {
   "metadata": {
    "ExecuteTime": {
     "end_time": "2024-12-09T03:57:20.673103Z",
     "start_time": "2024-12-09T03:57:20.662138Z"
    }
   },
   "cell_type": "code",
   "source": [
    "class ContentSearchInput(BaseModel):\n",
    "    query: str = Field(..., description=\"query string\")\n",
    "\n",
    "class ContentSearchTool(BaseTool):\n",
    "    name: str = \"ContentSearch\"\n",
    "    description: str = \"search for places given a detailed query\"\n",
    "    args_schema: Type[BaseModel] = ContentSearchInput\n",
    "    return_direct: bool = True\n",
    "\n",
    "    def _run(self, query: str, run_manager: Optional[CallbackManagerForToolRun] = None) -> list[Document]:\n",
    "        return retriever.invoke(query)\n",
    "    \n",
    "content_search_tool = ContentSearchTool()"
   ],
   "id": "1c14777e40bd2d20",
   "outputs": [],
   "execution_count": 59
  },
  {
   "metadata": {
    "ExecuteTime": {
     "end_time": "2024-12-09T03:57:20.937421Z",
     "start_time": "2024-12-09T03:57:20.929144Z"
    }
   },
   "cell_type": "code",
   "source": "model_with_tools = model.bind_tools([content_search_tool])",
   "id": "fa55e8c8c0f4491e",
   "outputs": [],
   "execution_count": 60
  },
  {
   "cell_type": "code",
   "id": "f076752d09e82765",
   "metadata": {
    "ExecuteTime": {
     "end_time": "2024-12-09T03:57:22.026930Z",
     "start_time": "2024-12-09T03:57:22.022125Z"
    }
   },
   "source": [
    "system_prompt = SystemMessagePromptTemplate.from_template(\"\"\"\n",
    "You are an AI concierge designed to assist users in planning their activities.\n",
    "When a user provides a request, engage them in a conversation to clarify the details. Use the following steps:\n",
    "\t-\tGreet the user warmly and acknowledge their request.\n",
    "\t-\tYou need to first clarify the following. Ask questions one at a time in a conversational manner (without listing or numbering) if needed.\n",
    "\t    -\tWho is involved? (e.g., Are they alone, with a partner, friends, or family?)\n",
    "        -\tWhere do they want to do it? (e.g., Region boundary?)\n",
    "        -\tWhat do they want to do? (e.g., Do they want to eat, walk or drink?)\n",
    "        -\tWhen do they want to do it? (e.g., Specific date, time, or any flexible preferences?)\n",
    "    -   Once enough information is gathered, use \"Content Search\" tool to search for places given a detailed query.\n",
    "    -   After search, answer using the provided context only.\n",
    "    -   Suggest utmost 3 places in format of \"name: reason\".\n",
    "    -   If you cannot find reasonable places, suggest spaces nearby and recommend uploading posts himself/herself.\n",
    "\t-\tUse their answers to suggest tailored options, ensuring your responses are polite, empathetic, and helpful.\n",
    "\t-   You must answer in {language}\n",
    "\"\"\")\n",
    "\n",
    "prompt_template = ChatPromptTemplate.from_messages([\n",
    "    system_prompt,\n",
    "    MessagesPlaceholder(variable_name=\"messages\"),\n",
    "])"
   ],
   "outputs": [],
   "execution_count": 61
  },
  {
   "cell_type": "code",
   "id": "a33e91723ce2e2d3",
   "metadata": {
    "ExecuteTime": {
     "end_time": "2024-12-09T06:26:02.887238Z",
     "start_time": "2024-12-09T06:26:02.877725Z"
    }
   },
   "source": [
    "class State(TypedDict):\n",
    "    messages: Annotated[Sequence[BaseMessage], add_messages]\n",
    "    language: str\n",
    "    \n",
    "workflow = StateGraph(state_schema=State)\n",
    "\n",
    "def call_model(state: State):\n",
    "    input_messages = prompt_template.invoke(state)\n",
    "    output_messages = []\n",
    "    \n",
    "    ai_message = model_with_tools.invoke(input_messages)\n",
    "    output_messages = add_messages(output_messages, ai_message)\n",
    "    \n",
    "    if len(ai_message.tool_calls) > 0:\n",
    "        tool_call = ai_message.tool_calls[0]\n",
    "        tool_message = content_search_tool.invoke(tool_call)\n",
    "        output_messages = add_messages(output_messages, tool_message)\n",
    "\n",
    "        ai_message = model_with_tools.invoke(add_messages(input_messages.to_messages(), output_messages))\n",
    "        output_messages = add_messages(output_messages, ai_message)\n",
    "        \n",
    "    return {\"messages\": output_messages}\n",
    "        \n",
    "workflow.add_edge(START, \"model\")\n",
    "workflow.add_node(\"model\", call_model)\n",
    "\n",
    "memory = MemorySaver()\n",
    "app = workflow.compile(checkpointer=memory)"
   ],
   "outputs": [],
   "execution_count": 156
  },
  {
   "cell_type": "code",
   "id": "26f04d3d036bb692",
   "metadata": {
    "ExecuteTime": {
     "end_time": "2024-12-09T06:26:03.583202Z",
     "start_time": "2024-12-09T06:26:03.578511Z"
    }
   },
   "source": [
    "def prompt(thread_id: str):\n",
    "    message = input()\n",
    "    print(\"You: \" + message)\n",
    "    print()\n",
    "        \n",
    "    streamer = app.stream(\n",
    "        {\"messages\": [HumanMessage(message)], \"language\": \"Korean\"},\n",
    "        {\"configurable\": {\"thread_id\": thread_id}},\n",
    "        stream_mode=\"messages\"\n",
    "    )\n",
    "\n",
    "    print(\"Bot: \")\n",
    "    for chunk, metadata in streamer:\n",
    "        if isinstance(chunk, AIMessage):\n",
    "            print(chunk.content, end=\"\")"
   ],
   "outputs": [],
   "execution_count": 157
  },
  {
   "metadata": {
    "ExecuteTime": {
     "end_time": "2024-12-09T06:26:06.102700Z",
     "start_time": "2024-12-09T06:26:06.099271Z"
    }
   },
   "cell_type": "code",
   "source": "thread_id = str(uuid.uuid4())",
   "id": "93373cf9e2191810",
   "outputs": [],
   "execution_count": 158
  },
  {
   "metadata": {
    "ExecuteTime": {
     "end_time": "2024-12-09T06:26:19.338023Z",
     "start_time": "2024-12-09T06:26:17.358097Z"
    }
   },
   "cell_type": "code",
   "source": "prompt(thread_id)",
   "id": "1e9c00cd1064b40c",
   "outputs": [
    {
     "name": "stdout",
     "output_type": "stream",
     "text": [
      "You: 오늘밤에 친구랑 단둘이 술먹기좋은 이자카야 추천해줘!\n",
      "\n",
      "Bot: \n",
      "안녕하세요! 오늘밤에 친구분과 함께 가실 이자카야를 찾고 계시군요. 어디에서 즐기고 싶으신가요? 특정 지역이 있으신가요?"
     ]
    }
   ],
   "execution_count": 159
  },
  {
   "cell_type": "code",
   "id": "782e248238bf8d39",
   "metadata": {
    "ExecuteTime": {
     "end_time": "2024-12-09T06:26:50.454730Z",
     "start_time": "2024-12-09T06:26:44.109439Z"
    }
   },
   "source": "prompt(thread_id)",
   "outputs": [
    {
     "name": "stdout",
     "output_type": "stream",
     "text": [
      "You: 서울 어디든 좋아~\n",
      "\n",
      "Bot: \n",
      "좋습니다! 서울에서 친구분과 함께 할 수 있는 멋진 이자카야를 찾아드리겠습니다. 잠시만 기다려 주세요.서울에서 친구와 함께 술을 즐기기 좋은 이자카야를 추천해드릴게요.\n",
      "\n",
      "1. 카사이: 서초구에 위치한 현대적인 이자카야로, 깔끔하고 세련된 인테리어가 매력적입니다. 다양한 일본식 요리를 맛볼 수 있으며, 특히 네기토로 핸드롤과 매콤한 해물 나베가 인기입니다.\n",
      "\n",
      "2. 지하서점: 성북구에 위치한 독특한 바입니다. 아늑한 도서관 분위기와 활기찬 바의 조화가 매력적이며, 책과 함께 맥주를 즐기며 조용히 시간을 보내기에 좋습니다.\n",
      "\n",
      "3. 오카츠: 성동구에 위치한 일본 전통 요리 전문점으로, 특히 돈카츠가 유명합니다. 깔끔한 인테리어와 맛있는 요리로 친구와 편안한 시간을 보내기에 적합합니다.\n",
      "\n",
      "이 중에서 마음에 드는 곳이 있으신가요? 추가 도움이 필요하시면 말씀해 주세요!"
     ]
    }
   ],
   "execution_count": 160
  },
  {
   "metadata": {},
   "cell_type": "code",
   "outputs": [],
   "execution_count": null,
   "source": "",
   "id": "4c609b2d6ad5727a"
  }
 ],
 "metadata": {
  "kernelspec": {
   "display_name": "Python 3",
   "language": "python",
   "name": "python3"
  },
  "language_info": {
   "codemirror_mode": {
    "name": "ipython",
    "version": 3
   },
   "file_extension": ".py",
   "mimetype": "text/x-python",
   "name": "python",
   "nbconvert_exporter": "python",
   "pygments_lexer": "ipython3",
   "version": "3.9.6"
  }
 },
 "nbformat": 4,
 "nbformat_minor": 5
}
