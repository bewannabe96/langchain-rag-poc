{
 "cells": [
  {
   "metadata": {
    "ExecuteTime": {
     "end_time": "2024-12-09T08:20:33.528841Z",
     "start_time": "2024-12-09T08:20:32.866122Z"
    }
   },
   "cell_type": "code",
   "source": [
    "import os\n",
    "\n",
    "from dotenv import load_dotenv\n",
    "from langchain_mongodb import MongoDBAtlasVectorSearch\n",
    "from langchain_openai import OpenAIEmbeddings\n",
    "from pymongo import MongoClient\n",
    "\n",
    "load_dotenv()"
   ],
   "id": "7650d17a95cd6d94",
   "outputs": [
    {
     "name": "stderr",
     "output_type": "stream",
     "text": [
      "/Users/sookhyun/Documents/personal/langchain-rag-poc/.venv/lib/python3.9/site-packages/urllib3/__init__.py:35: NotOpenSSLWarning: urllib3 v2 only supports OpenSSL 1.1.1+, currently the 'ssl' module is compiled with 'LibreSSL 2.8.3'. See: https://github.com/urllib3/urllib3/issues/3020\n",
      "  warnings.warn(\n"
     ]
    },
    {
     "data": {
      "text/plain": [
       "True"
      ]
     },
     "execution_count": 1,
     "metadata": {},
     "output_type": "execute_result"
    }
   ],
   "execution_count": 1
  },
  {
   "metadata": {
    "ExecuteTime": {
     "end_time": "2024-12-09T08:20:34.117143Z",
     "start_time": "2024-12-09T08:20:34.046127Z"
    }
   },
   "cell_type": "code",
   "source": "client = MongoClient(os.environ[\"DEV_MONGO_CONNECTION_STRING\"])",
   "id": "7c9ee4d7db479d6",
   "outputs": [],
   "execution_count": 2
  },
  {
   "metadata": {
    "ExecuteTime": {
     "end_time": "2024-12-09T08:20:36.602986Z",
     "start_time": "2024-12-09T08:20:36.568266Z"
    }
   },
   "cell_type": "code",
   "source": [
    "# Control Group\n",
    "control_vector_store = MongoDBAtlasVectorSearch(\n",
    "    collection=client[\"lab_dev\"][\"langchain_existing_embedding\"],\n",
    "    index_name=\"test_control_vector_store_index\",\n",
    "    relevance_score_fn=\"euclidean\",\n",
    "    embedding=OpenAIEmbeddings(model=\"text-embedding-3-large\", dimensions=2048),\n",
    ")"
   ],
   "id": "d3599bb0b2717eaa",
   "outputs": [],
   "execution_count": 3
  },
  {
   "metadata": {
    "ExecuteTime": {
     "end_time": "2024-12-09T08:21:10.831292Z",
     "start_time": "2024-12-09T08:21:10.813667Z"
    }
   },
   "cell_type": "code",
   "source": [
    "# Treatment Group\n",
    "treatment_vector_store = MongoDBAtlasVectorSearch(\n",
    "    collection=client[\"lab_dev\"][\"langchain_embedding\"],\n",
    "    index_name=\"test_vector_store_index\",\n",
    "    relevance_score_fn=\"cosine\",\n",
    "    embedding=OpenAIEmbeddings(model=\"text-embedding-3-small\", dimensions=1536),\n",
    ")\n",
    "\n",
    "# Also can be done manually through console\n",
    "# vector_store.create_vector_search_index(dimensions=1536)"
   ],
   "id": "fbfa98b562cc4a3c",
   "outputs": [],
   "execution_count": 6
  },
  {
   "metadata": {
    "ExecuteTime": {
     "end_time": "2024-12-09T08:21:11.436315Z",
     "start_time": "2024-12-09T08:21:11.431135Z"
    }
   },
   "cell_type": "code",
   "source": [
    "control_retriever = control_vector_store.as_retriever(search_type=\"similarity\", search_kwargs={\"k\": 10})\n",
    "treatment_retriever = treatment_vector_store.as_retriever(search_type=\"similarity\", search_kwargs={\"k\": 10})"
   ],
   "id": "62fb743623110b77",
   "outputs": [],
   "execution_count": 7
  },
  {
   "metadata": {
    "ExecuteTime": {
     "end_time": "2024-12-09T08:26:07.568464Z",
     "start_time": "2024-12-09T08:26:07.562833Z"
    }
   },
   "cell_type": "code",
   "source": [
    "def compare(query: str):\n",
    "    print(\"Control Group\")\n",
    "    documents = control_retriever.invoke(query)\n",
    "    print(\",\".join(list(map(lambda x: x.metadata.get(\"content_id\"), documents))))\n",
    "    \n",
    "    print(\"Treatment Group\")\n",
    "    documents = treatment_retriever.invoke(query)\n",
    "    print(\",\".join(list(map(lambda x: x.metadata.get(\"content_id\"), documents))))"
   ],
   "id": "97fe56f3f3944e81",
   "outputs": [],
   "execution_count": 14
  },
  {
   "metadata": {
    "ExecuteTime": {
     "end_time": "2024-12-09T09:30:16.538162Z",
     "start_time": "2024-12-09T09:30:15.559773Z"
    }
   },
   "cell_type": "code",
   "source": "compare(\"서울에서 가기 좋은 미술 전시회\")",
   "id": "2dd412cbed31a795",
   "outputs": [
    {
     "name": "stdout",
     "output_type": "stream",
     "text": [
      "Control Group\n",
      "674d790fb402910f7bf63190,67554bbfc500f7140346ed12,674d78a1b402910f7bf6318d,674d7039b402910f7bf6308d,674d71953f07b6292e4a77d2,674d7a118809430f63298bc7,674d78133f07b6292e4a78bc,674d77358809430f63298b5d,67517031cafd7927d7d43e02,674d2e183f07b6292e4a6cce\n",
      "Treatment Group\n",
      "674d790fb402910f7bf63190,674d7a118809430f63298bc7,67554bbfc500f7140346ed12,674d78a1b402910f7bf6318d,674d71953f07b6292e4a77d2,674d77358809430f63298b5d,67506cc57afff00eaba410e4,674d7039b402910f7bf6308d,674d947d3f07b6292e4a7d3f,674d903db402910f7bf634d6\n"
     ]
    }
   ],
   "execution_count": 33
  },
  {
   "metadata": {
    "ExecuteTime": {
     "end_time": "2024-12-09T08:28:18.905268Z",
     "start_time": "2024-12-09T08:28:18.013096Z"
    }
   },
   "cell_type": "code",
   "source": "compare(\"서울 근교에 단풍보며 산책하기 좋은 공간\")",
   "id": "6d0d31f00f7d042d",
   "outputs": [
    {
     "name": "stdout",
     "output_type": "stream",
     "text": [
      "Control Group\n",
      "6752ae8e71c8454e08505e72,674db53d8809430f6329948e,6749ec708809430f63291e58,6750c46344b8a54a7e5e86a0,6752ac0fcafd7927d7d45190,6752a9cf592588034c7838cd,674ed755a4f99b3ec727fe28,674b154cb402910f7bf5e516,6755676271c8454e0850903b,6752aae1cafd7927d7d4516d\n",
      "Treatment Group\n",
      "674ea78a10f2a32e7a0c7e27,674ae83d8809430f63293a20,675031ce7afff00eaba40ce7,674e63f23f07b6292e4a958b,6750c61544b8a54a7e5e86b9,674d71953f07b6292e4a77d2,674d78a1b402910f7bf6318d,6753d3fd592588034c784bcf,674e885035d15703bb026f0e,675044a144b8a54a7e5e8078\n"
     ]
    }
   ],
   "execution_count": 20
  },
  {
   "metadata": {
    "ExecuteTime": {
     "end_time": "2024-12-09T08:28:20.019643Z",
     "start_time": "2024-12-09T08:28:18.906592Z"
    }
   },
   "cell_type": "code",
   "source": "compare(\"서울에서 눈올때 갈만한 공간\")",
   "id": "667c4d6ddcaec2e3",
   "outputs": [
    {
     "name": "stdout",
     "output_type": "stream",
     "text": [
      "Control Group\n",
      "674db53d8809430f6329948e,6752ac0fcafd7927d7d45190,674caec1b402910f7bf61977,674db7803f07b6292e4a827f,6752aae1cafd7927d7d4516d,6752a9cf592588034c7838cd,674e63f23f07b6292e4a958b,6750c46344b8a54a7e5e86a0,6752ae8e71c8454e08505e72,6749ec708809430f63291e58\n",
      "Treatment Group\n",
      "67554bbfc500f7140346ed12,674d78a1b402910f7bf6318d,67506cc57afff00eaba410e4,674d7039b402910f7bf6308d,674eb24710f2a32e7a0c7fd2,674d2e183f07b6292e4a6cce,674d71953f07b6292e4a77d2,6752aae1cafd7927d7d4516d,674ea78a10f2a32e7a0c7e27,65d803ad46e44922f61d6207\n"
     ]
    }
   ],
   "execution_count": 21
  },
  {
   "metadata": {
    "ExecuteTime": {
     "end_time": "2024-12-09T08:28:28.508224Z",
     "start_time": "2024-12-09T08:28:25.200147Z"
    }
   },
   "cell_type": "code",
   "source": "compare(\"서울에의 한국적인 공간\")",
   "id": "d6acc48bf42b80bd",
   "outputs": [
    {
     "name": "stdout",
     "output_type": "stream",
     "text": [
      "Control Group\n",
      "674db53d8809430f6329948e,6752aae1cafd7927d7d4516d,674c0ce95383694484d06822,674d78a1b402910f7bf6318d,6749ec708809430f63291e58,6752a9cf592588034c7838cd,674d71953f07b6292e4a77d2,6750580cab01931e01bc2218,6750c46344b8a54a7e5e86a0,674ed76e76b183744d64808f\n",
      "Treatment Group\n",
      "674d78a1b402910f7bf6318d,674d947d3f07b6292e4a7d3f,674d71953f07b6292e4a77d2,67554bbfc500f7140346ed12,6752aae1cafd7927d7d4516d,67506cc57afff00eaba410e4,67501c297afff00eaba40b57,673754ff5d2e1522d8e0b708,674d7039b402910f7bf6308d,674eb24710f2a32e7a0c7fd2\n"
     ]
    }
   ],
   "execution_count": 22
  },
  {
   "metadata": {
    "ExecuteTime": {
     "end_time": "2024-12-09T08:28:30.144032Z",
     "start_time": "2024-12-09T08:28:29.427092Z"
    }
   },
   "cell_type": "code",
   "source": "compare(\"서울에서 친구와 단둘이 가기좋은 술집\")",
   "id": "6927e4d6511e90c3",
   "outputs": [
    {
     "name": "stdout",
     "output_type": "stream",
     "text": [
      "Control Group\n",
      "675104b97afff00eaba416fb,6752df61cafd7927d7d454f0,674db53d8809430f6329948e,6753babdc500f7140346ce66,674ee8503f9bca1dab1bdf66,6753e3c3cafd7927d7d465d4,674d3e503f07b6292e4a7095,675057337afff00eaba40f37,6752537271c8454e0850570b,674c5e3b8809430f63296960\n",
      "Treatment Group\n",
      "6752df61cafd7927d7d454f0,65d803ad46e44922f61d6207,6749d9d18809430f63291bae,65f8084a2384e0486b5a0eaf,674d3e503f07b6292e4a7095,67563c9acafd7927d7d4912b,674ee8503f9bca1dab1bdf66,675104b97afff00eaba416fb,675044a144b8a54a7e5e8078,6752de17cafd7927d7d454ec\n"
     ]
    }
   ],
   "execution_count": 23
  },
  {
   "metadata": {
    "ExecuteTime": {
     "end_time": "2024-12-09T08:29:43.164098Z",
     "start_time": "2024-12-09T08:29:42.457896Z"
    }
   },
   "cell_type": "code",
   "source": "compare(\"서울의 실내 공간\")",
   "id": "5110a491c572ac8e",
   "outputs": [
    {
     "name": "stdout",
     "output_type": "stream",
     "text": [
      "Control Group\n",
      "6749ec708809430f63291e58,674c0ce95383694484d06822,674db53d8809430f6329948e,67554bbfc500f7140346ed12,674d71953f07b6292e4a77d2,6752aae1cafd7927d7d4516d,6750580cab01931e01bc2218,674ae83d8809430f63293a20,674db7803f07b6292e4a827f,674caec1b402910f7bf61977\n",
      "Treatment Group\n",
      "674d71953f07b6292e4a77d2,674d78a1b402910f7bf6318d,67554bbfc500f7140346ed12,674eb24710f2a32e7a0c7fd2,674d7039b402910f7bf6308d,674ae83d8809430f63293a20,674f0358f5815308ea301717,6752aae1cafd7927d7d4516d,67506cc57afff00eaba410e4,674db6f1b402910f7bf63ac2\n"
     ]
    }
   ],
   "execution_count": 24
  },
  {
   "metadata": {
    "ExecuteTime": {
     "end_time": "2024-12-09T08:30:26.253713Z",
     "start_time": "2024-12-09T08:30:25.467357Z"
    }
   },
   "cell_type": "code",
   "source": "compare(\"성탄절 술집\")",
   "id": "23c0059fcc029b3c",
   "outputs": [
    {
     "name": "stdout",
     "output_type": "stream",
     "text": [
      "Control Group\n",
      "6753babdc500f7140346ce66,6752de17cafd7927d7d454ec,674b386cb402910f7bf5e995,674ea0f66841635da4c2f752,674ee8503f9bca1dab1bdf66,674ec1204cca144d176525d9,6752df61cafd7927d7d454f0,675196eb71c8454e08504dcb,6752a4c2c500f7140346bdc6,674bfcaa8809430f63295a90\n",
      "Treatment Group\n",
      "65f8084a2384e0486b5a0eaf,6752de17cafd7927d7d454ec,6755676271c8454e0850903b,65d8364646e44922f61d6257,65c0a7c6e1392d02a6da64c6,670786447ad7b5463ba51ede,674c5e3b8809430f63296960,6683c3c4d81428665e0bb347,674d3e503f07b6292e4a7095,674db6535383694484d09eef\n"
     ]
    }
   ],
   "execution_count": 25
  },
  {
   "metadata": {},
   "cell_type": "code",
   "outputs": [],
   "execution_count": null,
   "source": "",
   "id": "41a3b81ed7bad80f"
  }
 ],
 "metadata": {
  "kernelspec": {
   "display_name": "Python 3",
   "language": "python",
   "name": "python3"
  },
  "language_info": {
   "codemirror_mode": {
    "name": "ipython",
    "version": 2
   },
   "file_extension": ".py",
   "mimetype": "text/x-python",
   "name": "python",
   "nbconvert_exporter": "python",
   "pygments_lexer": "ipython2",
   "version": "2.7.6"
  }
 },
 "nbformat": 4,
 "nbformat_minor": 5
}
