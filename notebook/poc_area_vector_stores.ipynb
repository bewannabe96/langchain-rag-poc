{
 "cells": [
  {
   "metadata": {
    "ExecuteTime": {
     "end_time": "2025-01-06T06:14:35.527874Z",
     "start_time": "2025-01-06T06:14:34.791887Z"
    }
   },
   "cell_type": "code",
   "source": [
    "import os\n",
    "\n",
    "from dotenv import load_dotenv\n",
    "from langchain_mongodb import MongoDBAtlasVectorSearch\n",
    "from langchain_openai import OpenAIEmbeddings\n",
    "from pymongo import MongoClient\n",
    "\n",
    "load_dotenv()"
   ],
   "id": "7650d17a95cd6d94",
   "outputs": [
    {
     "name": "stderr",
     "output_type": "stream",
     "text": [
      "/Users/sookhyun/Documents/personal/langchain-rag-poc/.venv/lib/python3.9/site-packages/urllib3/__init__.py:35: NotOpenSSLWarning: urllib3 v2 only supports OpenSSL 1.1.1+, currently the 'ssl' module is compiled with 'LibreSSL 2.8.3'. See: https://github.com/urllib3/urllib3/issues/3020\n",
      "  warnings.warn(\n"
     ]
    },
    {
     "data": {
      "text/plain": [
       "True"
      ]
     },
     "execution_count": 1,
     "metadata": {},
     "output_type": "execute_result"
    }
   ],
   "execution_count": 1
  },
  {
   "metadata": {
    "ExecuteTime": {
     "end_time": "2025-01-06T06:15:08.040486Z",
     "start_time": "2025-01-06T06:15:07.929117Z"
    }
   },
   "cell_type": "code",
   "source": "client = MongoClient(os.environ[\"SESSION_MONGO_CONN_STR\"])",
   "id": "7c9ee4d7db479d6",
   "outputs": [],
   "execution_count": 2
  },
  {
   "metadata": {
    "ExecuteTime": {
     "end_time": "2025-01-06T06:45:15.118558Z",
     "start_time": "2025-01-06T06:45:13.956852Z"
    }
   },
   "cell_type": "code",
   "source": [
    "vector_store = MongoDBAtlasVectorSearch(\n",
    "    collection=client[\"lab_dev\"][\"area_vector_store\"],\n",
    "    index_name=\"area_name_vector_index\",\n",
    "    relevance_score_fn=\"cosine\",\n",
    "    embedding=OpenAIEmbeddings(model=\"text-embedding-3-small\", dimensions=1024),\n",
    ")\n",
    "\n",
    "vector_store.create_vector_search_index(dimensions=1024)"
   ],
   "id": "d3599bb0b2717eaa",
   "outputs": [
    {
     "ename": "OperationFailure",
     "evalue": "Search index operations are not currently available on shared clusters, such as MO. They require dedicated clusters >= M10. You may still perform vector search. You simply must set up indexes manually. Follow the instructions here: https://www.mongodb.com/docs/atlas/atlas-vector-search/vector-search-type/",
     "output_type": "error",
     "traceback": [
      "\u001B[0;31m---------------------------------------------------------------------------\u001B[0m",
      "\u001B[0;31mOperationFailure\u001B[0m                          Traceback (most recent call last)",
      "File \u001B[0;32m~/Documents/personal/langchain-rag-poc/.venv/lib/python3.9/site-packages/langchain_mongodb/index.py:75\u001B[0m, in \u001B[0;36mcreate_vector_search_index\u001B[0;34m(collection, index_name, dimensions, path, similarity, filters, wait_until_complete, **kwargs)\u001B[0m\n\u001B[1;32m     74\u001B[0m \u001B[38;5;28;01mtry\u001B[39;00m:\n\u001B[0;32m---> 75\u001B[0m     result \u001B[38;5;241m=\u001B[39m \u001B[43mcollection\u001B[49m\u001B[38;5;241;43m.\u001B[39;49m\u001B[43mcreate_search_index\u001B[49m\u001B[43m(\u001B[49m\n\u001B[1;32m     76\u001B[0m \u001B[43m        \u001B[49m\u001B[43mSearchIndexModel\u001B[49m\u001B[43m(\u001B[49m\n\u001B[1;32m     77\u001B[0m \u001B[43m            \u001B[49m\u001B[43mdefinition\u001B[49m\u001B[38;5;241;43m=\u001B[39;49m\u001B[43m_vector_search_index_definition\u001B[49m\u001B[43m(\u001B[49m\n\u001B[1;32m     78\u001B[0m \u001B[43m                \u001B[49m\u001B[43mdimensions\u001B[49m\u001B[38;5;241;43m=\u001B[39;49m\u001B[43mdimensions\u001B[49m\u001B[43m,\u001B[49m\n\u001B[1;32m     79\u001B[0m \u001B[43m                \u001B[49m\u001B[43mpath\u001B[49m\u001B[38;5;241;43m=\u001B[39;49m\u001B[43mpath\u001B[49m\u001B[43m,\u001B[49m\n\u001B[1;32m     80\u001B[0m \u001B[43m                \u001B[49m\u001B[43msimilarity\u001B[49m\u001B[38;5;241;43m=\u001B[39;49m\u001B[43msimilarity\u001B[49m\u001B[43m,\u001B[49m\n\u001B[1;32m     81\u001B[0m \u001B[43m                \u001B[49m\u001B[43mfilters\u001B[49m\u001B[38;5;241;43m=\u001B[39;49m\u001B[43mfilters\u001B[49m\u001B[43m,\u001B[49m\n\u001B[1;32m     82\u001B[0m \u001B[43m                \u001B[49m\u001B[38;5;241;43m*\u001B[39;49m\u001B[38;5;241;43m*\u001B[39;49m\u001B[43mkwargs\u001B[49m\u001B[43m,\u001B[49m\n\u001B[1;32m     83\u001B[0m \u001B[43m            \u001B[49m\u001B[43m)\u001B[49m\u001B[43m,\u001B[49m\n\u001B[1;32m     84\u001B[0m \u001B[43m            \u001B[49m\u001B[43mname\u001B[49m\u001B[38;5;241;43m=\u001B[39;49m\u001B[43mindex_name\u001B[49m\u001B[43m,\u001B[49m\n\u001B[1;32m     85\u001B[0m \u001B[43m            \u001B[49m\u001B[38;5;28;43mtype\u001B[39;49m\u001B[38;5;241;43m=\u001B[39;49m\u001B[38;5;124;43m\"\u001B[39;49m\u001B[38;5;124;43mvectorSearch\u001B[39;49m\u001B[38;5;124;43m\"\u001B[39;49m\u001B[43m,\u001B[49m\n\u001B[1;32m     86\u001B[0m \u001B[43m        \u001B[49m\u001B[43m)\u001B[49m\n\u001B[1;32m     87\u001B[0m \u001B[43m    \u001B[49m\u001B[43m)\u001B[49m\n\u001B[1;32m     88\u001B[0m \u001B[38;5;28;01mexcept\u001B[39;00m OperationFailure \u001B[38;5;28;01mas\u001B[39;00m e:\n",
      "File \u001B[0;32m~/Documents/personal/langchain-rag-poc/.venv/lib/python3.9/site-packages/pymongo/synchronous/collection.py:2651\u001B[0m, in \u001B[0;36mCollection.create_search_index\u001B[0;34m(self, model, session, comment, **kwargs)\u001B[0m\n\u001B[1;32m   2650\u001B[0m     model \u001B[38;5;241m=\u001B[39m SearchIndexModel(\u001B[38;5;241m*\u001B[39m\u001B[38;5;241m*\u001B[39mmodel)\n\u001B[0;32m-> 2651\u001B[0m \u001B[38;5;28;01mreturn\u001B[39;00m (\u001B[38;5;28;43mself\u001B[39;49m\u001B[38;5;241;43m.\u001B[39;49m\u001B[43m_create_search_indexes\u001B[49m\u001B[43m(\u001B[49m\u001B[43m[\u001B[49m\u001B[43mmodel\u001B[49m\u001B[43m]\u001B[49m\u001B[43m,\u001B[49m\u001B[43m \u001B[49m\u001B[43msession\u001B[49m\u001B[43m,\u001B[49m\u001B[43m \u001B[49m\u001B[43mcomment\u001B[49m\u001B[43m,\u001B[49m\u001B[43m \u001B[49m\u001B[38;5;241;43m*\u001B[39;49m\u001B[38;5;241;43m*\u001B[39;49m\u001B[43mkwargs\u001B[49m\u001B[43m)\u001B[49m)[\u001B[38;5;241m0\u001B[39m]\n",
      "File \u001B[0;32m~/Documents/personal/langchain-rag-poc/.venv/lib/python3.9/site-packages/pymongo/synchronous/collection.py:2699\u001B[0m, in \u001B[0;36mCollection._create_search_indexes\u001B[0;34m(self, models, session, comment, **kwargs)\u001B[0m\n\u001B[1;32m   2698\u001B[0m \u001B[38;5;28;01mwith\u001B[39;00m \u001B[38;5;28mself\u001B[39m\u001B[38;5;241m.\u001B[39m_conn_for_writes(session, operation\u001B[38;5;241m=\u001B[39m_Op\u001B[38;5;241m.\u001B[39mCREATE_SEARCH_INDEXES) \u001B[38;5;28;01mas\u001B[39;00m conn:\n\u001B[0;32m-> 2699\u001B[0m     resp \u001B[38;5;241m=\u001B[39m \u001B[38;5;28;43mself\u001B[39;49m\u001B[38;5;241;43m.\u001B[39;49m\u001B[43m_command\u001B[49m\u001B[43m(\u001B[49m\n\u001B[1;32m   2700\u001B[0m \u001B[43m        \u001B[49m\u001B[43mconn\u001B[49m\u001B[43m,\u001B[49m\n\u001B[1;32m   2701\u001B[0m \u001B[43m        \u001B[49m\u001B[43mcmd\u001B[49m\u001B[43m,\u001B[49m\n\u001B[1;32m   2702\u001B[0m \u001B[43m        \u001B[49m\u001B[43mread_preference\u001B[49m\u001B[38;5;241;43m=\u001B[39;49m\u001B[43mReadPreference\u001B[49m\u001B[38;5;241;43m.\u001B[39;49m\u001B[43mPRIMARY\u001B[49m\u001B[43m,\u001B[49m\n\u001B[1;32m   2703\u001B[0m \u001B[43m        \u001B[49m\u001B[43mcodec_options\u001B[49m\u001B[38;5;241;43m=\u001B[39;49m\u001B[43m_UNICODE_REPLACE_CODEC_OPTIONS\u001B[49m\u001B[43m,\u001B[49m\n\u001B[1;32m   2704\u001B[0m \u001B[43m    \u001B[49m\u001B[43m)\u001B[49m\n\u001B[1;32m   2705\u001B[0m     \u001B[38;5;28;01mreturn\u001B[39;00m [index[\u001B[38;5;124m\"\u001B[39m\u001B[38;5;124mname\u001B[39m\u001B[38;5;124m\"\u001B[39m] \u001B[38;5;28;01mfor\u001B[39;00m index \u001B[38;5;129;01min\u001B[39;00m resp[\u001B[38;5;124m\"\u001B[39m\u001B[38;5;124mindexesCreated\u001B[39m\u001B[38;5;124m\"\u001B[39m]]\n",
      "File \u001B[0;32m~/Documents/personal/langchain-rag-poc/.venv/lib/python3.9/site-packages/pymongo/synchronous/collection.py:600\u001B[0m, in \u001B[0;36mCollection._command\u001B[0;34m(self, conn, command, read_preference, codec_options, check, allowable_errors, read_concern, write_concern, collation, session, retryable_write, user_fields)\u001B[0m\n\u001B[1;32m    599\u001B[0m \u001B[38;5;28;01mwith\u001B[39;00m \u001B[38;5;28mself\u001B[39m\u001B[38;5;241m.\u001B[39m_database\u001B[38;5;241m.\u001B[39mclient\u001B[38;5;241m.\u001B[39m_tmp_session(session) \u001B[38;5;28;01mas\u001B[39;00m s:\n\u001B[0;32m--> 600\u001B[0m     \u001B[38;5;28;01mreturn\u001B[39;00m \u001B[43mconn\u001B[49m\u001B[38;5;241;43m.\u001B[39;49m\u001B[43mcommand\u001B[49m\u001B[43m(\u001B[49m\n\u001B[1;32m    601\u001B[0m \u001B[43m        \u001B[49m\u001B[38;5;28;43mself\u001B[39;49m\u001B[38;5;241;43m.\u001B[39;49m\u001B[43m_database\u001B[49m\u001B[38;5;241;43m.\u001B[39;49m\u001B[43mname\u001B[49m\u001B[43m,\u001B[49m\n\u001B[1;32m    602\u001B[0m \u001B[43m        \u001B[49m\u001B[43mcommand\u001B[49m\u001B[43m,\u001B[49m\n\u001B[1;32m    603\u001B[0m \u001B[43m        \u001B[49m\u001B[43mread_preference\u001B[49m\u001B[43m \u001B[49m\u001B[38;5;129;43;01mor\u001B[39;49;00m\u001B[43m \u001B[49m\u001B[38;5;28;43mself\u001B[39;49m\u001B[38;5;241;43m.\u001B[39;49m\u001B[43m_read_preference_for\u001B[49m\u001B[43m(\u001B[49m\u001B[43msession\u001B[49m\u001B[43m)\u001B[49m\u001B[43m,\u001B[49m\n\u001B[1;32m    604\u001B[0m \u001B[43m        \u001B[49m\u001B[43mcodec_options\u001B[49m\u001B[43m \u001B[49m\u001B[38;5;129;43;01mor\u001B[39;49;00m\u001B[43m \u001B[49m\u001B[38;5;28;43mself\u001B[39;49m\u001B[38;5;241;43m.\u001B[39;49m\u001B[43mcodec_options\u001B[49m\u001B[43m,\u001B[49m\n\u001B[1;32m    605\u001B[0m \u001B[43m        \u001B[49m\u001B[43mcheck\u001B[49m\u001B[43m,\u001B[49m\n\u001B[1;32m    606\u001B[0m \u001B[43m        \u001B[49m\u001B[43mallowable_errors\u001B[49m\u001B[43m,\u001B[49m\n\u001B[1;32m    607\u001B[0m \u001B[43m        \u001B[49m\u001B[43mread_concern\u001B[49m\u001B[38;5;241;43m=\u001B[39;49m\u001B[43mread_concern\u001B[49m\u001B[43m,\u001B[49m\n\u001B[1;32m    608\u001B[0m \u001B[43m        \u001B[49m\u001B[43mwrite_concern\u001B[49m\u001B[38;5;241;43m=\u001B[39;49m\u001B[43mwrite_concern\u001B[49m\u001B[43m,\u001B[49m\n\u001B[1;32m    609\u001B[0m \u001B[43m        \u001B[49m\u001B[43mparse_write_concern_error\u001B[49m\u001B[38;5;241;43m=\u001B[39;49m\u001B[38;5;28;43;01mTrue\u001B[39;49;00m\u001B[43m,\u001B[49m\n\u001B[1;32m    610\u001B[0m \u001B[43m        \u001B[49m\u001B[43mcollation\u001B[49m\u001B[38;5;241;43m=\u001B[39;49m\u001B[43mcollation\u001B[49m\u001B[43m,\u001B[49m\n\u001B[1;32m    611\u001B[0m \u001B[43m        \u001B[49m\u001B[43msession\u001B[49m\u001B[38;5;241;43m=\u001B[39;49m\u001B[43ms\u001B[49m\u001B[43m,\u001B[49m\n\u001B[1;32m    612\u001B[0m \u001B[43m        \u001B[49m\u001B[43mclient\u001B[49m\u001B[38;5;241;43m=\u001B[39;49m\u001B[38;5;28;43mself\u001B[39;49m\u001B[38;5;241;43m.\u001B[39;49m\u001B[43m_database\u001B[49m\u001B[38;5;241;43m.\u001B[39;49m\u001B[43mclient\u001B[49m\u001B[43m,\u001B[49m\n\u001B[1;32m    613\u001B[0m \u001B[43m        \u001B[49m\u001B[43mretryable_write\u001B[49m\u001B[38;5;241;43m=\u001B[39;49m\u001B[43mretryable_write\u001B[49m\u001B[43m,\u001B[49m\n\u001B[1;32m    614\u001B[0m \u001B[43m        \u001B[49m\u001B[43muser_fields\u001B[49m\u001B[38;5;241;43m=\u001B[39;49m\u001B[43muser_fields\u001B[49m\u001B[43m,\u001B[49m\n\u001B[1;32m    615\u001B[0m \u001B[43m    \u001B[49m\u001B[43m)\u001B[49m\n",
      "File \u001B[0;32m~/Documents/personal/langchain-rag-poc/.venv/lib/python3.9/site-packages/pymongo/synchronous/helpers.py:45\u001B[0m, in \u001B[0;36m_handle_reauth.<locals>.inner\u001B[0;34m(*args, **kwargs)\u001B[0m\n\u001B[1;32m     44\u001B[0m \u001B[38;5;28;01mtry\u001B[39;00m:\n\u001B[0;32m---> 45\u001B[0m     \u001B[38;5;28;01mreturn\u001B[39;00m \u001B[43mfunc\u001B[49m\u001B[43m(\u001B[49m\u001B[38;5;241;43m*\u001B[39;49m\u001B[43margs\u001B[49m\u001B[43m,\u001B[49m\u001B[43m \u001B[49m\u001B[38;5;241;43m*\u001B[39;49m\u001B[38;5;241;43m*\u001B[39;49m\u001B[43mkwargs\u001B[49m\u001B[43m)\u001B[49m\n\u001B[1;32m     46\u001B[0m \u001B[38;5;28;01mexcept\u001B[39;00m OperationFailure \u001B[38;5;28;01mas\u001B[39;00m exc:\n",
      "File \u001B[0;32m~/Documents/personal/langchain-rag-poc/.venv/lib/python3.9/site-packages/pymongo/synchronous/pool.py:538\u001B[0m, in \u001B[0;36mConnection.command\u001B[0;34m(self, dbname, spec, read_preference, codec_options, check, allowable_errors, read_concern, write_concern, parse_write_concern_error, collation, session, client, retryable_write, publish_events, user_fields, exhaust_allowed)\u001B[0m\n\u001B[1;32m    537\u001B[0m \u001B[38;5;28;01mtry\u001B[39;00m:\n\u001B[0;32m--> 538\u001B[0m     \u001B[38;5;28;01mreturn\u001B[39;00m \u001B[43mcommand\u001B[49m\u001B[43m(\u001B[49m\n\u001B[1;32m    539\u001B[0m \u001B[43m        \u001B[49m\u001B[38;5;28;43mself\u001B[39;49m\u001B[43m,\u001B[49m\n\u001B[1;32m    540\u001B[0m \u001B[43m        \u001B[49m\u001B[43mdbname\u001B[49m\u001B[43m,\u001B[49m\n\u001B[1;32m    541\u001B[0m \u001B[43m        \u001B[49m\u001B[43mspec\u001B[49m\u001B[43m,\u001B[49m\n\u001B[1;32m    542\u001B[0m \u001B[43m        \u001B[49m\u001B[38;5;28;43mself\u001B[39;49m\u001B[38;5;241;43m.\u001B[39;49m\u001B[43mis_mongos\u001B[49m\u001B[43m,\u001B[49m\n\u001B[1;32m    543\u001B[0m \u001B[43m        \u001B[49m\u001B[43mread_preference\u001B[49m\u001B[43m,\u001B[49m\n\u001B[1;32m    544\u001B[0m \u001B[43m        \u001B[49m\u001B[43mcodec_options\u001B[49m\u001B[43m,\u001B[49m\n\u001B[1;32m    545\u001B[0m \u001B[43m        \u001B[49m\u001B[43msession\u001B[49m\u001B[43m,\u001B[49m\n\u001B[1;32m    546\u001B[0m \u001B[43m        \u001B[49m\u001B[43mclient\u001B[49m\u001B[43m,\u001B[49m\n\u001B[1;32m    547\u001B[0m \u001B[43m        \u001B[49m\u001B[43mcheck\u001B[49m\u001B[43m,\u001B[49m\n\u001B[1;32m    548\u001B[0m \u001B[43m        \u001B[49m\u001B[43mallowable_errors\u001B[49m\u001B[43m,\u001B[49m\n\u001B[1;32m    549\u001B[0m \u001B[43m        \u001B[49m\u001B[38;5;28;43mself\u001B[39;49m\u001B[38;5;241;43m.\u001B[39;49m\u001B[43maddress\u001B[49m\u001B[43m,\u001B[49m\n\u001B[1;32m    550\u001B[0m \u001B[43m        \u001B[49m\u001B[43mlisteners\u001B[49m\u001B[43m,\u001B[49m\n\u001B[1;32m    551\u001B[0m \u001B[43m        \u001B[49m\u001B[38;5;28;43mself\u001B[39;49m\u001B[38;5;241;43m.\u001B[39;49m\u001B[43mmax_bson_size\u001B[49m\u001B[43m,\u001B[49m\n\u001B[1;32m    552\u001B[0m \u001B[43m        \u001B[49m\u001B[43mread_concern\u001B[49m\u001B[43m,\u001B[49m\n\u001B[1;32m    553\u001B[0m \u001B[43m        \u001B[49m\u001B[43mparse_write_concern_error\u001B[49m\u001B[38;5;241;43m=\u001B[39;49m\u001B[43mparse_write_concern_error\u001B[49m\u001B[43m,\u001B[49m\n\u001B[1;32m    554\u001B[0m \u001B[43m        \u001B[49m\u001B[43mcollation\u001B[49m\u001B[38;5;241;43m=\u001B[39;49m\u001B[43mcollation\u001B[49m\u001B[43m,\u001B[49m\n\u001B[1;32m    555\u001B[0m \u001B[43m        \u001B[49m\u001B[43mcompression_ctx\u001B[49m\u001B[38;5;241;43m=\u001B[39;49m\u001B[38;5;28;43mself\u001B[39;49m\u001B[38;5;241;43m.\u001B[39;49m\u001B[43mcompression_context\u001B[49m\u001B[43m,\u001B[49m\n\u001B[1;32m    556\u001B[0m \u001B[43m        \u001B[49m\u001B[43muse_op_msg\u001B[49m\u001B[38;5;241;43m=\u001B[39;49m\u001B[38;5;28;43mself\u001B[39;49m\u001B[38;5;241;43m.\u001B[39;49m\u001B[43mop_msg_enabled\u001B[49m\u001B[43m,\u001B[49m\n\u001B[1;32m    557\u001B[0m \u001B[43m        \u001B[49m\u001B[43munacknowledged\u001B[49m\u001B[38;5;241;43m=\u001B[39;49m\u001B[43munacknowledged\u001B[49m\u001B[43m,\u001B[49m\n\u001B[1;32m    558\u001B[0m \u001B[43m        \u001B[49m\u001B[43muser_fields\u001B[49m\u001B[38;5;241;43m=\u001B[39;49m\u001B[43muser_fields\u001B[49m\u001B[43m,\u001B[49m\n\u001B[1;32m    559\u001B[0m \u001B[43m        \u001B[49m\u001B[43mexhaust_allowed\u001B[49m\u001B[38;5;241;43m=\u001B[39;49m\u001B[43mexhaust_allowed\u001B[49m\u001B[43m,\u001B[49m\n\u001B[1;32m    560\u001B[0m \u001B[43m        \u001B[49m\u001B[43mwrite_concern\u001B[49m\u001B[38;5;241;43m=\u001B[39;49m\u001B[43mwrite_concern\u001B[49m\u001B[43m,\u001B[49m\n\u001B[1;32m    561\u001B[0m \u001B[43m    \u001B[49m\u001B[43m)\u001B[49m\n\u001B[1;32m    562\u001B[0m \u001B[38;5;28;01mexcept\u001B[39;00m (OperationFailure, NotPrimaryError):\n",
      "File \u001B[0;32m~/Documents/personal/langchain-rag-poc/.venv/lib/python3.9/site-packages/pymongo/synchronous/network.py:218\u001B[0m, in \u001B[0;36mcommand\u001B[0;34m(conn, dbname, spec, is_mongos, read_preference, codec_options, session, client, check, allowable_errors, address, listeners, max_bson_size, read_concern, parse_write_concern_error, collation, compression_ctx, use_op_msg, unacknowledged, user_fields, exhaust_allowed, write_concern)\u001B[0m\n\u001B[1;32m    217\u001B[0m         \u001B[38;5;28;01mif\u001B[39;00m check:\n\u001B[0;32m--> 218\u001B[0m             \u001B[43mhelpers_shared\u001B[49m\u001B[38;5;241;43m.\u001B[39;49m\u001B[43m_check_command_response\u001B[49m\u001B[43m(\u001B[49m\n\u001B[1;32m    219\u001B[0m \u001B[43m                \u001B[49m\u001B[43mresponse_doc\u001B[49m\u001B[43m,\u001B[49m\n\u001B[1;32m    220\u001B[0m \u001B[43m                \u001B[49m\u001B[43mconn\u001B[49m\u001B[38;5;241;43m.\u001B[39;49m\u001B[43mmax_wire_version\u001B[49m\u001B[43m,\u001B[49m\n\u001B[1;32m    221\u001B[0m \u001B[43m                \u001B[49m\u001B[43mallowable_errors\u001B[49m\u001B[43m,\u001B[49m\n\u001B[1;32m    222\u001B[0m \u001B[43m                \u001B[49m\u001B[43mparse_write_concern_error\u001B[49m\u001B[38;5;241;43m=\u001B[39;49m\u001B[43mparse_write_concern_error\u001B[49m\u001B[43m,\u001B[49m\n\u001B[1;32m    223\u001B[0m \u001B[43m            \u001B[49m\u001B[43m)\u001B[49m\n\u001B[1;32m    224\u001B[0m \u001B[38;5;28;01mexcept\u001B[39;00m \u001B[38;5;167;01mException\u001B[39;00m \u001B[38;5;28;01mas\u001B[39;00m exc:\n",
      "File \u001B[0;32m~/Documents/personal/langchain-rag-poc/.venv/lib/python3.9/site-packages/pymongo/helpers_shared.py:247\u001B[0m, in \u001B[0;36m_check_command_response\u001B[0;34m(response, max_wire_version, allowable_errors, parse_write_concern_error)\u001B[0m\n\u001B[1;32m    245\u001B[0m     \u001B[38;5;28;01mraise\u001B[39;00m CursorNotFound(errmsg, code, response, max_wire_version)\n\u001B[0;32m--> 247\u001B[0m \u001B[38;5;28;01mraise\u001B[39;00m OperationFailure(errmsg, code, response, max_wire_version)\n",
      "\u001B[0;31mOperationFailure\u001B[0m: Duplicate Index, full error: {'ok': 0.0, 'errmsg': 'Duplicate Index', 'code': 68, 'codeName': 'IndexAlreadyExists', '$clusterTime': {'clusterTime': Timestamp(1736145896, 55), 'signature': {'hash': b'\\x9a\\xb6i\\xccdPM\\xf1\\x88\\xdaR!\\x9f\\xbe\\xbd8\\xf4R\\xb9h', 'keyId': 7419678822724796418}}, 'operationTime': Timestamp(1736145896, 55)}",
      "\nThe above exception was the direct cause of the following exception:\n",
      "\u001B[0;31mOperationFailure\u001B[0m                          Traceback (most recent call last)",
      "Cell \u001B[0;32mIn[26], line 8\u001B[0m\n\u001B[1;32m      1\u001B[0m vector_store \u001B[38;5;241m=\u001B[39m MongoDBAtlasVectorSearch(\n\u001B[1;32m      2\u001B[0m     collection\u001B[38;5;241m=\u001B[39mclient[\u001B[38;5;124m\"\u001B[39m\u001B[38;5;124mlab_dev\u001B[39m\u001B[38;5;124m\"\u001B[39m][\u001B[38;5;124m\"\u001B[39m\u001B[38;5;124marea_vector_store\u001B[39m\u001B[38;5;124m\"\u001B[39m],\n\u001B[1;32m      3\u001B[0m     index_name\u001B[38;5;241m=\u001B[39m\u001B[38;5;124m\"\u001B[39m\u001B[38;5;124marea_name_vector_index\u001B[39m\u001B[38;5;124m\"\u001B[39m,\n\u001B[1;32m      4\u001B[0m     relevance_score_fn\u001B[38;5;241m=\u001B[39m\u001B[38;5;124m\"\u001B[39m\u001B[38;5;124mcosine\u001B[39m\u001B[38;5;124m\"\u001B[39m,\n\u001B[1;32m      5\u001B[0m     embedding\u001B[38;5;241m=\u001B[39mOpenAIEmbeddings(model\u001B[38;5;241m=\u001B[39m\u001B[38;5;124m\"\u001B[39m\u001B[38;5;124mtext-embedding-3-small\u001B[39m\u001B[38;5;124m\"\u001B[39m, dimensions\u001B[38;5;241m=\u001B[39m\u001B[38;5;241m1024\u001B[39m),\n\u001B[1;32m      6\u001B[0m )\n\u001B[0;32m----> 8\u001B[0m \u001B[43mvector_store\u001B[49m\u001B[38;5;241;43m.\u001B[39;49m\u001B[43mcreate_vector_search_index\u001B[49m\u001B[43m(\u001B[49m\u001B[43mdimensions\u001B[49m\u001B[38;5;241;43m=\u001B[39;49m\u001B[38;5;241;43m512\u001B[39;49m\u001B[43m)\u001B[49m\n",
      "File \u001B[0;32m~/Documents/personal/langchain-rag-poc/.venv/lib/python3.9/site-packages/langchain_mongodb/vectorstores.py:789\u001B[0m, in \u001B[0;36mMongoDBAtlasVectorSearch.create_vector_search_index\u001B[0;34m(self, dimensions, filters, update)\u001B[0m\n\u001B[1;32m    783\u001B[0m     \u001B[38;5;28;01mpass\u001B[39;00m\n\u001B[1;32m    785\u001B[0m index_operation \u001B[38;5;241m=\u001B[39m (\n\u001B[1;32m    786\u001B[0m     update_vector_search_index \u001B[38;5;28;01mif\u001B[39;00m update \u001B[38;5;28;01melse\u001B[39;00m create_vector_search_index\n\u001B[1;32m    787\u001B[0m )\n\u001B[0;32m--> 789\u001B[0m \u001B[43mindex_operation\u001B[49m\u001B[43m(\u001B[49m\n\u001B[1;32m    790\u001B[0m \u001B[43m    \u001B[49m\u001B[43mcollection\u001B[49m\u001B[38;5;241;43m=\u001B[39;49m\u001B[38;5;28;43mself\u001B[39;49m\u001B[38;5;241;43m.\u001B[39;49m\u001B[43m_collection\u001B[49m\u001B[43m,\u001B[49m\n\u001B[1;32m    791\u001B[0m \u001B[43m    \u001B[49m\u001B[43mindex_name\u001B[49m\u001B[38;5;241;43m=\u001B[39;49m\u001B[38;5;28;43mself\u001B[39;49m\u001B[38;5;241;43m.\u001B[39;49m\u001B[43m_index_name\u001B[49m\u001B[43m,\u001B[49m\n\u001B[1;32m    792\u001B[0m \u001B[43m    \u001B[49m\u001B[43mdimensions\u001B[49m\u001B[38;5;241;43m=\u001B[39;49m\u001B[43mdimensions\u001B[49m\u001B[43m,\u001B[49m\n\u001B[1;32m    793\u001B[0m \u001B[43m    \u001B[49m\u001B[43mpath\u001B[49m\u001B[38;5;241;43m=\u001B[39;49m\u001B[38;5;28;43mself\u001B[39;49m\u001B[38;5;241;43m.\u001B[39;49m\u001B[43m_embedding_key\u001B[49m\u001B[43m,\u001B[49m\n\u001B[1;32m    794\u001B[0m \u001B[43m    \u001B[49m\u001B[43msimilarity\u001B[49m\u001B[38;5;241;43m=\u001B[39;49m\u001B[38;5;28;43mself\u001B[39;49m\u001B[38;5;241;43m.\u001B[39;49m\u001B[43m_relevance_score_fn\u001B[49m\u001B[43m,\u001B[49m\n\u001B[1;32m    795\u001B[0m \u001B[43m    \u001B[49m\u001B[43mfilters\u001B[49m\u001B[38;5;241;43m=\u001B[39;49m\u001B[43mfilters\u001B[49m\u001B[43m \u001B[49m\u001B[38;5;129;43;01mor\u001B[39;49;00m\u001B[43m \u001B[49m\u001B[43m[\u001B[49m\u001B[43m]\u001B[49m\u001B[43m,\u001B[49m\n\u001B[1;32m    796\u001B[0m \u001B[43m\u001B[49m\u001B[43m)\u001B[49m\n",
      "File \u001B[0;32m~/Documents/personal/langchain-rag-poc/.venv/lib/python3.9/site-packages/langchain_mongodb/index.py:89\u001B[0m, in \u001B[0;36mcreate_vector_search_index\u001B[0;34m(collection, index_name, dimensions, path, similarity, filters, wait_until_complete, **kwargs)\u001B[0m\n\u001B[1;32m     75\u001B[0m     result \u001B[38;5;241m=\u001B[39m collection\u001B[38;5;241m.\u001B[39mcreate_search_index(\n\u001B[1;32m     76\u001B[0m         SearchIndexModel(\n\u001B[1;32m     77\u001B[0m             definition\u001B[38;5;241m=\u001B[39m_vector_search_index_definition(\n\u001B[0;32m   (...)\u001B[0m\n\u001B[1;32m     86\u001B[0m         )\n\u001B[1;32m     87\u001B[0m     )\n\u001B[1;32m     88\u001B[0m \u001B[38;5;28;01mexcept\u001B[39;00m OperationFailure \u001B[38;5;28;01mas\u001B[39;00m e:\n\u001B[0;32m---> 89\u001B[0m     \u001B[38;5;28;01mraise\u001B[39;00m OperationFailure(_search_index_error_message()) \u001B[38;5;28;01mfrom\u001B[39;00m \u001B[38;5;21;01me\u001B[39;00m\n\u001B[1;32m     91\u001B[0m \u001B[38;5;28;01mif\u001B[39;00m wait_until_complete:\n\u001B[1;32m     92\u001B[0m     _wait_for_predicate(\n\u001B[1;32m     93\u001B[0m         predicate\u001B[38;5;241m=\u001B[39m\u001B[38;5;28;01mlambda\u001B[39;00m: _is_index_ready(collection, index_name),\n\u001B[1;32m     94\u001B[0m         err\u001B[38;5;241m=\u001B[39m\u001B[38;5;124mf\u001B[39m\u001B[38;5;124m\"\u001B[39m\u001B[38;5;132;01m{\u001B[39;00mindex_name\u001B[38;5;132;01m=}\u001B[39;00m\u001B[38;5;124m did not complete in \u001B[39m\u001B[38;5;132;01m{\u001B[39;00mwait_until_complete\u001B[38;5;132;01m}\u001B[39;00m\u001B[38;5;124m!\u001B[39m\u001B[38;5;124m\"\u001B[39m,\n\u001B[1;32m     95\u001B[0m         timeout\u001B[38;5;241m=\u001B[39mwait_until_complete,\n\u001B[1;32m     96\u001B[0m     )\n",
      "\u001B[0;31mOperationFailure\u001B[0m: Search index operations are not currently available on shared clusters, such as MO. They require dedicated clusters >= M10. You may still perform vector search. You simply must set up indexes manually. Follow the instructions here: https://www.mongodb.com/docs/atlas/atlas-vector-search/vector-search-type/"
     ]
    }
   ],
   "execution_count": 26
  },
  {
   "metadata": {
    "ExecuteTime": {
     "end_time": "2025-01-06T06:55:05.686116Z",
     "start_time": "2025-01-06T06:55:05.347521Z"
    }
   },
   "cell_type": "code",
   "source": [
    "from langchain_core.documents import Document\n",
    "\n",
    "vector_store.add_documents(documents=[\n",
    "])"
   ],
   "id": "2dd412cbed31a795",
   "outputs": [
    {
     "data": {
      "text/plain": [
       "['677b7e49ce7d23f5d8c631d3']"
      ]
     },
     "execution_count": 27,
     "metadata": {},
     "output_type": "execute_result"
    }
   ],
   "execution_count": 27
  },
  {
   "metadata": {
    "ExecuteTime": {
     "end_time": "2025-01-06T06:55:17.979295Z",
     "start_time": "2025-01-06T06:55:17.974385Z"
    }
   },
   "cell_type": "code",
   "source": "retriever = vector_store.as_retriever(search_type=\"similarity\", search_kwargs={\"k\": 1})",
   "id": "62fb743623110b77",
   "outputs": [],
   "execution_count": 28
  },
  {
   "metadata": {
    "ExecuteTime": {
     "end_time": "2025-01-06T06:55:19.114876Z",
     "start_time": "2025-01-06T06:55:19.112852Z"
    }
   },
   "cell_type": "code",
   "source": [
    "def perform(query: str):\n",
    "    documents = retriever.invoke(query)\n",
    "    print(documents)"
   ],
   "id": "97fe56f3f3944e81",
   "outputs": [],
   "execution_count": 29
  },
  {
   "metadata": {
    "ExecuteTime": {
     "end_time": "2025-01-06T07:31:04.801589Z",
     "start_time": "2025-01-06T07:31:04.413754Z"
    }
   },
   "cell_type": "code",
   "source": "perform(\"kyung sang nam do\")",
   "id": "6d0d31f00f7d042d",
   "outputs": [
    {
     "name": "stdout",
     "output_type": "stream",
     "text": [
      "[Document(metadata={'_id': '677b7e49ce7d23f5d8c631d3'}, page_content='Gyeongsangnam-do')]\n"
     ]
    }
   ],
   "execution_count": 41
  },
  {
   "metadata": {},
   "cell_type": "code",
   "outputs": [],
   "execution_count": null,
   "source": "",
   "id": "41a3b81ed7bad80f"
  }
 ],
 "metadata": {
  "kernelspec": {
   "display_name": "Python 3",
   "language": "python",
   "name": "python3"
  },
  "language_info": {
   "codemirror_mode": {
    "name": "ipython",
    "version": 2
   },
   "file_extension": ".py",
   "mimetype": "text/x-python",
   "name": "python",
   "nbconvert_exporter": "python",
   "pygments_lexer": "ipython2",
   "version": "2.7.6"
  }
 },
 "nbformat": 4,
 "nbformat_minor": 5
}
