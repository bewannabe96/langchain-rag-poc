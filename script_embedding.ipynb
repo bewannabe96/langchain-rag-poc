{
 "cells": [
  {
   "cell_type": "code",
   "id": "1260e85c2cfa2685",
   "metadata": {
    "collapsed": true,
    "ExecuteTime": {
     "end_time": "2024-12-05T05:41:59.601955Z",
     "start_time": "2024-12-05T05:41:58.813851Z"
    }
   },
   "source": [
    "import os\n",
    "\n",
    "from dotenv import load_dotenv\n",
    "from langchain_core.documents import Document\n",
    "from langchain_mongodb import MongoDBAtlasVectorSearch\n",
    "from langchain_openai import OpenAIEmbeddings\n",
    "from pymongo import MongoClient\n",
    "from tqdm import tqdm\n",
    "\n",
    "from langchain_rag.embedding.summarizer import Summarizer\n",
    "\n",
    "load_dotenv()"
   ],
   "outputs": [
    {
     "name": "stderr",
     "output_type": "stream",
     "text": [
      "/Users/sookhyun/Documents/personal/langchain-rag-poc/.venv/lib/python3.9/site-packages/urllib3/__init__.py:35: NotOpenSSLWarning: urllib3 v2 only supports OpenSSL 1.1.1+, currently the 'ssl' module is compiled with 'LibreSSL 2.8.3'. See: https://github.com/urllib3/urllib3/issues/3020\n",
      "  warnings.warn(\n"
     ]
    },
    {
     "data": {
      "text/plain": [
       "True"
      ]
     },
     "execution_count": 2,
     "metadata": {},
     "output_type": "execute_result"
    }
   ],
   "execution_count": 2
  },
  {
   "cell_type": "code",
   "id": "initial_id",
   "metadata": {
    "ExecuteTime": {
     "end_time": "2024-12-05T05:41:59.716440Z",
     "start_time": "2024-12-05T05:41:59.602831Z"
    }
   },
   "source": [
    "prod_mongo_client = MongoClient(os.environ[\"PROD_MONGO_CONNECTION_STRING\"])\n",
    "dev_mongo_client = MongoClient(os.environ[\"DEV_MONGO_CONNECTION_STRING\"])\n",
    "summarizer = Summarizer()"
   ],
   "outputs": [],
   "execution_count": 3
  },
  {
   "metadata": {
    "ExecuteTime": {
     "end_time": "2024-12-05T05:42:01.236331Z",
     "start_time": "2024-12-05T05:42:01.221836Z"
    }
   },
   "cell_type": "code",
   "source": [
    "embeddings = OpenAIEmbeddings(model=\"text-embedding-3-small\", dimensions=1536)\n",
    "\n",
    "vector_store = MongoDBAtlasVectorSearch(\n",
    "    collection=dev_mongo_client[\"lab_dev\"][\"langchain_embedding\"],\n",
    "    index_name=\"test_vector_store_index\",\n",
    "    relevance_score_fn=\"cosine\",\n",
    "    embedding=embeddings,\n",
    ")"
   ],
   "id": "516bf8b65445b5f",
   "outputs": [],
   "execution_count": 4
  },
  {
   "cell_type": "code",
   "id": "17d7ffe11bc5a49c",
   "metadata": {
    "ExecuteTime": {
     "end_time": "2024-12-05T06:06:23.362567Z",
     "start_time": "2024-12-05T05:44:44.199887Z"
    }
   },
   "source": [
    "cursor = prod_mongo_client[\"prod\"][\"post\"].find({}, {}).sort(\"createdAt\", -1).limit(100)\n",
    "\n",
    "for mongo_doc in tqdm(cursor, desc=\"Embedding documents\"):\n",
    "    content_id = str(mongo_doc[\"_id\"])\n",
    "    \n",
    "    existing_doc = dev_mongo_client[\"lab_dev\"][\"langchain_embedding\"].find_one({\"content_id\": content_id}, {\"_id\": 1})\n",
    "    if existing_doc is not None:\n",
    "        continue\n",
    "        \n",
    "    try:\n",
    "        summary = summarizer.summarize_content(content_id, embed_image_count=3)\n",
    "        doc = Document(page_content=summary, metadata={\"content_id\": content_id})\n",
    "        vector_store.add_documents(documents=[doc])\n",
    "    except Exception as e:\n",
    "        print(f\"Error occurred while embedding documents [{content_id}]: {e}\")"
   ],
   "outputs": [
    {
     "name": "stderr",
     "output_type": "stream",
     "text": [
      "Embedding documents: 9it [00:00, 39.98it/s]"
     ]
    },
    {
     "name": "stdout",
     "output_type": "stream",
     "text": [
      "Error occurred while embedding documents [6750c46344b8a54a7e5e86a0]: not enough values to unpack (expected 2, got 1)\n"
     ]
    },
    {
     "name": "stderr",
     "output_type": "stream",
     "text": [
      "Embedding documents: 29it [04:05,  8.40s/it]"
     ]
    },
    {
     "name": "stdout",
     "output_type": "stream",
     "text": [
      "Error occurred while embedding documents [67500705b8b7920da63a3a35]: not enough values to unpack (expected 2, got 1)\n"
     ]
    },
    {
     "name": "stderr",
     "output_type": "stream",
     "text": [
      "Embedding documents: 75it [15:18, 12.45s/it]"
     ]
    },
    {
     "name": "stdout",
     "output_type": "stream",
     "text": [
      "Error occurred while embedding documents [674dcbd28809430f63299847]: not enough values to unpack (expected 2, got 1)\n"
     ]
    },
    {
     "name": "stderr",
     "output_type": "stream",
     "text": [
      "Embedding documents: 84it [17:08,  8.96s/it]"
     ]
    },
    {
     "name": "stdout",
     "output_type": "stream",
     "text": [
      "Error occurred while embedding documents [674d98ed5383694484d09afe]: not enough values to unpack (expected 2, got 1)\n"
     ]
    },
    {
     "name": "stderr",
     "output_type": "stream",
     "text": [
      "Embedding documents: 87it [17:39,  8.50s/it]"
     ]
    },
    {
     "name": "stdout",
     "output_type": "stream",
     "text": [
      "Error occurred while embedding documents [674d95245383694484d09a21]: not enough values to unpack (expected 2, got 1)\n"
     ]
    },
    {
     "name": "stderr",
     "output_type": "stream",
     "text": [
      "Embedding documents: 100it [21:39, 12.99s/it]\n"
     ]
    }
   ],
   "execution_count": 6
  },
  {
   "metadata": {},
   "cell_type": "code",
   "outputs": [],
   "execution_count": null,
   "source": "",
   "id": "bc954a79e2d789aa"
  }
 ],
 "metadata": {
  "kernelspec": {
   "display_name": "Python 3",
   "language": "python",
   "name": "python3"
  },
  "language_info": {
   "codemirror_mode": {
    "name": "ipython",
    "version": 2
   },
   "file_extension": ".py",
   "mimetype": "text/x-python",
   "name": "python",
   "nbconvert_exporter": "python",
   "pygments_lexer": "ipython2",
   "version": "2.7.6"
  }
 },
 "nbformat": 4,
 "nbformat_minor": 5
}
